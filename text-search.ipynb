{
 "cells": [
  {
   "cell_type": "markdown",
   "id": "052a4da8-c5a5-4e70-8e4d-b12d1c93fec7",
   "metadata": {},
   "source": [
    "# Text-based lexical (keyword) search engine:"
   ]
  },
  {
   "cell_type": "markdown",
   "id": "aeddb2a6-52f4-45ee-ad49-c3834858844a",
   "metadata": {},
   "source": [
    "# Install"
   ]
  },
  {
   "cell_type": "code",
   "execution_count": null,
   "id": "a9a8f156-b866-4aa1-b577-3fd00944cc22",
   "metadata": {},
   "outputs": [],
   "source": [
    "!pip install requests pandas scikit-learn numpy"
   ]
  },
  {
   "cell_type": "markdown",
   "id": "348f85dc-bfb4-4174-88a0-ace28d2259e3",
   "metadata": {},
   "source": [
    "# 1.1 Load JSON from GitHub"
   ]
  },
  {
   "cell_type": "code",
   "execution_count": 54,
   "id": "e086e993-e766-402e-ad7e-50a2a2640a78",
   "metadata": {},
   "outputs": [],
   "source": [
    "import requests\n",
    "import pandas as pd\n",
    "import numpy as np\n",
    "from sklearn.feature_extraction.text import TfidfVectorizer\n",
    "from sklearn.metrics.pairwise import cosine_similarity\n",
    "\n",
    "\n",
    "docs_url = 'https://raw.githubusercontent.com/Mamdouh-Muhammad/llm/refs/heads/main/rk20.json'\n",
    "docs_response = requests.get(docs_url)\n",
    "documents_raw = docs_response.json()"
   ]
  },
  {
   "cell_type": "markdown",
   "id": "03f535a2-e91c-4851-9543-36b5394d905b",
   "metadata": {},
   "source": [
    "# 1.2 Flatten the JSON into a list of documents"
   ]
  },
  {
   "cell_type": "code",
   "execution_count": 55,
   "id": "da392aca-c511-4431-ac0a-78c70b36daa2",
   "metadata": {},
   "outputs": [],
   "source": [
    "documents = []\n",
    "\n",
    "for course in documents_raw:\n",
    "    course_name = course['course']\n",
    "\n",
    "    for doc in course['documents']:\n",
    "        doc['course'] = course_name\n",
    "        documents.append(doc)"
   ]
  },
  {
   "cell_type": "markdown",
   "id": "8080955e-b6b0-4762-8104-8ead5ca17915",
   "metadata": {},
   "source": [
    "# 1.3 Create a Pandas DataFrame"
   ]
  },
  {
   "cell_type": "code",
   "execution_count": 56,
   "id": "89151d69-7019-4db0-b6cf-173f1f1c1071",
   "metadata": {},
   "outputs": [],
   "source": [
    "df = pd.DataFrame(documents, columns=['course', 'section', 'question', 'text'])\n",
    "#df.head()"
   ]
  },
  {
   "cell_type": "markdown",
   "id": "e342865d-09d9-4b3e-a167-9124a39b1fe4",
   "metadata": {
    "jp-MarkdownHeadingCollapsed": true
   },
   "source": [
    "# (Optional) Implementing text search using Scikit-Learn \n",
    "# (BoW=Ignore of grammar, word order, syntax.. only word frequency)"
   ]
  },
  {
   "cell_type": "code",
   "execution_count": null,
   "id": "c0137e56-9536-4c7f-9964-c222a44378ea",
   "metadata": {},
   "outputs": [],
   "source": [
    "example_text = [\n",
    "    \"The lecture provides an introduction to the fundamentals of computer networking\",\n",
    "    \"It follows a top-down approach through the five key layers of the Internet protocol stack\",\n",
    "    \"Application Layer: Covers protocols such as HTTP, DNS, and SMTP\",\n",
    "    \"Transport Layer: Focuses on TCP, UDP, flow control, and congestion control\",\n",
    "    \"Network Layer: Includes IP addressing, routing algorithms, and packet forwarding\",\n",
    "    \"Data Link Layer: Discusses access methods, error detection, and correction techniques\",\n",
    "    \"Physical Layer: Introduces transmission media, signals, and modulation techniques\",\n",
    "    \"Security is addressed as a cross-cutting concern across all layers\",\n",
    "    \"Analytical models are used to understand performance metrics and network design\",\n",
    "    \"The exercise sessions include both practical programming tasks and theoretical problem sets\",\n",
    "    \"The goal is to develop a deep understanding of the structure and operation of modern communication networks\"\n",
    "]"
   ]
  },
  {
   "cell_type": "code",
   "execution_count": null,
   "id": "f969fc9b-6e77-47b1-87a1-92e57ca37de5",
   "metadata": {},
   "outputs": [],
   "source": [
    "from sklearn.feature_extraction.text import CountVectorizer\n",
    "\n",
    "cv = CountVectorizer(stop_words='english')\n",
    "X = cv.fit_transform(example_text)"
   ]
  },
  {
   "cell_type": "code",
   "execution_count": null,
   "id": "6d0e67d5-911e-41ff-9e08-61ae364a2660",
   "metadata": {},
   "outputs": [],
   "source": [
    "names = cv.get_feature_names_out()\n",
    "names"
   ]
  },
  {
   "cell_type": "code",
   "execution_count": null,
   "id": "9675ca9b-8f74-4559-a106-30757bec2b5d",
   "metadata": {},
   "outputs": [],
   "source": [
    "df_docs = pd.DataFrame(X.toarray(), columns=names).T\n",
    "df_docs"
   ]
  },
  {
   "cell_type": "markdown",
   "id": "53cfc5f6-94f5-4230-b4df-3d8272d1fcc1",
   "metadata": {
    "jp-MarkdownHeadingCollapsed": true
   },
   "source": [
    "# Implementing text search using TF-IDF Vectorization"
   ]
  },
  {
   "cell_type": "code",
   "execution_count": null,
   "id": "092e4884-75a0-4be0-8abe-d207031c9531",
   "metadata": {},
   "outputs": [],
   "source": [
    "from sklearn.feature_extraction.text import TfidfVectorizer\n",
    "\n",
    "cv = TfidfVectorizer(stop_words='english')\n",
    "X = cv.fit_transform(example_text)"
   ]
  },
  {
   "cell_type": "code",
   "execution_count": null,
   "id": "bf863b2a-ffdf-41f5-8be6-8acfe16a1230",
   "metadata": {},
   "outputs": [],
   "source": [
    "names = cv.get_feature_names_out()\n",
    "names"
   ]
  },
  {
   "cell_type": "code",
   "execution_count": null,
   "id": "f3c27c17-23fd-4345-a9dc-28d4c45b4b5e",
   "metadata": {},
   "outputs": [],
   "source": [
    "df_docs = pd.DataFrame(X.toarray(), columns=names)\n",
    "df_docs.round(2)"
   ]
  },
  {
   "cell_type": "markdown",
   "id": "7f747646-4044-4705-867d-e99cb84d5217",
   "metadata": {
    "jp-MarkdownHeadingCollapsed": true
   },
   "source": [
    "# Query-Document Similarity"
   ]
  },
  {
   "cell_type": "code",
   "execution_count": null,
   "id": "1467c1a6-0051-40e0-b0ed-368bc62270d1",
   "metadata": {},
   "outputs": [],
   "source": [
    "query = \"What is application layer?\"\n",
    "\n",
    "q = cv.transform([query])\n",
    "q.toarray()"
   ]
  },
  {
   "cell_type": "code",
   "execution_count": null,
   "id": "d0e7eddc-eebd-41f5-b4d2-d1a32e1c3bd5",
   "metadata": {},
   "outputs": [],
   "source": [
    "query_dict = dict(zip(names, q.toarray()[0]))"
   ]
  },
  {
   "cell_type": "code",
   "execution_count": null,
   "id": "224b19d4-3d42-4467-ac93-4f298bcefa98",
   "metadata": {},
   "outputs": [],
   "source": [
    "X.dot(q.T).toarray()"
   ]
  },
  {
   "cell_type": "markdown",
   "id": "8d06c2b2-33c3-4bb2-baf3-a6fb02400ced",
   "metadata": {},
   "source": [
    "# 1.4 Setup for TF-IDF Vectorization"
   ]
  },
  {
   "cell_type": "code",
   "execution_count": 57,
   "id": "673cc9c2-daf0-487a-aa83-77b88eb18616",
   "metadata": {},
   "outputs": [],
   "source": [
    "fields = ['section', 'question', 'text']\n",
    "transformers = {}\n",
    "matrices = {}"
   ]
  },
  {
   "cell_type": "markdown",
   "id": "9c4042df-8752-4f24-9afb-8f81493f9a59",
   "metadata": {},
   "source": [
    "# 1.5 TF-IDF Transformation Loop"
   ]
  },
  {
   "cell_type": "code",
   "execution_count": 58,
   "id": "6c2109df-3648-4ba9-89f6-9ea433473291",
   "metadata": {},
   "outputs": [],
   "source": [
    "for field in fields:\n",
    "    cv = TfidfVectorizer(stop_words='english', min_df=2)\n",
    "    X = cv.fit_transform(df[field].fillna('').astype(str))\n",
    "    transformers[field] = cv\n",
    "    matrices[field] = X"
   ]
  },
  {
   "cell_type": "markdown",
   "id": "d432ac94-ba23-4382-b968-8edd32c531c0",
   "metadata": {},
   "source": [
    "# 1.6 Access Features and Matrix"
   ]
  },
  {
   "cell_type": "code",
   "execution_count": 72,
   "id": "3e9ef47b-1e9f-4abc-a1dd-23075d407e8e",
   "metadata": {},
   "outputs": [
    {
     "data": {
      "text/plain": [
       "<Compressed Sparse Row sparse matrix of dtype 'float64'\n",
       "\twith 29 stored elements and shape (19, 11)>"
      ]
     },
     "execution_count": 72,
     "metadata": {},
     "output_type": "execute_result"
    }
   ],
   "source": [
    "transformers['question'].get_feature_names_out()\n",
    "matrices['question']"
   ]
  },
  {
   "cell_type": "code",
   "execution_count": 99,
   "id": "724e4b12-2e0d-4c61-bd75-3b0dc579485e",
   "metadata": {},
   "outputs": [],
   "source": [
    "query = \"What social events are planned near semester end?\"\n",
    "\n",
    "query_vector = transformers['question'].transform([query])\n",
    "score = cosine_similarity(matrices['question'], query_vector).flatten()\n",
    "\n",
    "indices  = np.argsort(-score)[:2]\n",
    "\n",
    "results = df.iloc[indices].copy()\n",
    "results['similarity_score'] = score[indices]"
   ]
  },
  {
   "cell_type": "code",
   "execution_count": 100,
   "id": "6914c09e-c550-4084-8c4a-5ed40328e027",
   "metadata": {},
   "outputs": [
    {
     "name": "stdout",
     "output_type": "stream",
     "text": [
      "\n",
      "Top 2 Matching Results:\n",
      "                                                                                                                                                                                                                                                                                      text  \\\n",
      "1  [Check the expected number of students that will enroll., Plan the number of tutors and time slots based on expected student count., Contact students to join as tutors, starting with former tutors., Email previous year students based on RK grades and notify Erika for paperwork.]   \n",
      "8                                                                                                                                                                                                                                    [Invite tutors to the yearly Lehrstuhlgrillen event.]   \n",
      "\n",
      "   similarity_score  \n",
      "1               1.0  \n",
      "8               1.0  \n"
     ]
    }
   ],
   "source": [
    "pd.set_option('display.max_colwidth', None)\n",
    "print(\"\\nTop 2 Matching Results:\")\n",
    "print(results[['text', 'similarity_score']])"
   ]
  },
  {
   "cell_type": "code",
   "execution_count": null,
   "id": "efd7c79e-d1e3-4e6d-8a14-614445b7389a",
   "metadata": {},
   "outputs": [],
   "source": []
  }
 ],
 "metadata": {
  "kernelspec": {
   "display_name": "Python 3 (ipykernel)",
   "language": "python",
   "name": "python3"
  },
  "language_info": {
   "codemirror_mode": {
    "name": "ipython",
    "version": 3
   },
   "file_extension": ".py",
   "mimetype": "text/x-python",
   "name": "python",
   "nbconvert_exporter": "python",
   "pygments_lexer": "ipython3",
   "version": "3.12.1"
  }
 },
 "nbformat": 4,
 "nbformat_minor": 5
}
