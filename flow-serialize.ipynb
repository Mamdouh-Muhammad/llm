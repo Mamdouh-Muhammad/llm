{
 "cells": [
  {
   "cell_type": "code",
   "execution_count": null,
   "id": "a66ea234-13d6-4042-a640-7d8726199d5f",
   "metadata": {},
   "outputs": [
    {
     "data": {
      "text/plain": [
       "CollectionsResponse(collections=[CollectionDescription(name='llm-sparse-and-dense'), CollectionDescription(name='llm2-sparse'), CollectionDescription(name='hm2-q3q4'), CollectionDescription(name='homework2'), CollectionDescription(name='llm-rag')])"
      ]
     },
     "execution_count": 69,
     "metadata": {},
     "output_type": "execute_result"
    }
   ],
   "source": [
    "import json\n",
    "import io\n",
    "import pandas as pd\n",
    "import streamlit as st\n",
    "\n",
    "st.set_page_config(page_title=\"Flow-to-JSONL Converter\", layout=\"wide\")\n",
    "st.title(\"CSV → LLM fine-tune JSONL\")"
   ]
  },
  {
   "cell_type": "code",
   "execution_count": null,
   "id": "10c690ed-bd4f-4d82-8d3b-333866c4fa83",
   "metadata": {},
   "outputs": [],
   "source": [
    "# ── 1. Load data ──────────────────────────────────────────────────────────────\n",
    "uploaded = st.file_uploader(\"Upload CICFlowMeter CSV\", type=[\"csv\"])\n",
    "if uploaded is None:\n",
    "    st.stop()\n",
    "\n",
    "df = pd.read_csv(uploaded)"
   ]
  },
  {
   "cell_type": "code",
   "execution_count": null,
   "id": "f740d93f-5354-411f-aa42-f9e5f058bf4c",
   "metadata": {},
   "outputs": [],
   "source": [
    "# ── 2. Column selector ────────────────────────────────────────────────────────\n",
    "st.subheader(\"Select feature columns for the prompt\")\n",
    "feature_cols = st.multiselect(\n",
    "    \"Columns\",\n",
    "    options=list(df.columns),\n",
    "    default=[c for c in df.columns if c not in (\"Label\", \"label\")],\n",
    ")\n",
    "\n",
    "label_col = st.selectbox(\"Label column (completion)\", options=df.columns, index=df.columns.get_loc(\"Label\") if \"Label\" in df.columns else 0)"
   ]
  },
  {
   "cell_type": "code",
   "execution_count": null,
   "id": "164be38c-aa66-4ecb-9c75-93f75d125a26",
   "metadata": {},
   "outputs": [],
   "source": [
    "# ── 3. Row-level preview / edit ───────────────────────────────────────────────\n",
    "st.subheader(\"Edit rows if needed\")\n",
    "edited_df = st.data_editor(\n",
    "    df[feature_cols + [label_col]].copy(),\n",
    "    num_rows=\"dynamic\",\n",
    "    use_container_width=True,\n",
    "    key=\"editor\",\n",
    ")"
   ]
  },
  {
   "cell_type": "code",
   "execution_count": null,
   "id": "151ea1b0",
   "metadata": {},
   "outputs": [
    {
     "name": "stdout",
     "output_type": "stream",
     "text": [
      "Minimal value: -0.11726373885183883\n"
     ]
    }
   ],
   "source": [
    "# ── 4. Convert on demand ──────────────────────────────────────────────────────\n",
    "def row_to_prompt(row, cols):\n",
    "    # \"Destination Port is 80, Flow Duration is 5821928, ...\"\n",
    "    return \", \".join(f\"{col} is {row[col]}\" for col in cols)\n",
    "\n",
    "def convert_dataframe(df_in, cols, label_column):\n",
    "    records = []\n",
    "    for _, row in df_in.iterrows():\n",
    "        records.append(\n",
    "            {\n",
    "                \"prompt\": row_to_prompt(row, cols),\n",
    "                \"completion\": str(row[label_column]),\n",
    "            }\n",
    "        )\n",
    "    return records\n",
    "\n",
    "if st.button(\"Generate JSONL\"):\n",
    "    records = convert_dataframe(edited_df, feature_cols, label_col)\n",
    "    buf = io.StringIO(\"\\n\".join(json.dumps(r) for r in records))\n",
    "    st.download_button(\n",
    "        label=\"Download .jsonl\",\n",
    "        data=buf.getvalue(),\n",
    "        file_name=\"flows.jsonl\",\n",
    "        mime=\"application/jsonl\",\n",
    "    )\n",
    "    st.success(f\"{len(records)} rows converted\")"
   ]
  },
  {
   "cell_type": "code",
   "execution_count": null,
   "id": "ae33b110",
   "metadata": {},
   "outputs": [],
   "source": [
    "pip install streamlit pandas\n",
    "streamlit run app.py"
   ]
  }
 ],
 "metadata": {
  "kernelspec": {
   "display_name": "Python 3",
   "language": "python",
   "name": "python3"
  },
  "language_info": {
   "codemirror_mode": {
    "name": "ipython",
    "version": 3
   },
   "file_extension": ".py",
   "mimetype": "text/x-python",
   "name": "python",
   "nbconvert_exporter": "python",
   "pygments_lexer": "ipython3",
   "version": "3.12.1"
  }
 },
 "nbformat": 4,
 "nbformat_minor": 5
}
