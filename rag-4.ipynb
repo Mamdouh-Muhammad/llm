{
 "cells": [
  {
   "cell_type": "markdown",
   "id": "1e344edc-1603-4f94-8c18-66d704ad4f6b",
   "metadata": {},
   "source": [
    "# json +  RAG with Vector Search + OpenAI API"
   ]
  },
  {
   "cell_type": "code",
   "execution_count": null,
   "id": "d671ec9d-5198-4a9f-9bb2-49cc57327541",
   "metadata": {},
   "outputs": [],
   "source": [
    "#!pip install openai python-dotenv tqdm requests beautifulsoup4\n",
    "#!pip install --upgrade pinecone"
   ]
  },
  {
   "cell_type": "markdown",
   "id": "ee3d4400-af5c-4d33-b74a-fbf033a7d894",
   "metadata": {},
   "source": [
    "# Import packages and modules"
   ]
  },
  {
   "cell_type": "code",
   "execution_count": null,
   "id": "a66ea234-13d6-4042-a640-7d8726199d5f",
   "metadata": {},
   "outputs": [],
   "source": [
    "import minsearch\n",
    "import json\n",
    "from openai import OpenAI  # OpenAI API client\n",
    "import pinecone  # Pinecone client library\n",
    "# print(pinecone.__version__)  # Print Pinecone version (optional)\n",
    "from pinecone import Pinecone, ServerlessSpec  # For setup and serverless config\n",
    "import hashlib  # For hashing (e.g., file IDs)\n",
    "import os  # OS operations and env vars\n",
    "from datetime import datetime  # Date and time handling\n",
    "from tqdm import tqdm  # Progress bars (e.g., looping through files)\n",
    "import requests  # HTTP requests (e.g., for web scraping or API calls)\n",
    "import re  # Regular expressions (e.g., for pattern matching in strings)\n",
    "from bs4 import BeautifulSoup  # HTML parsing\n",
    "from dotenv import load_dotenv  # Load .env file"
   ]
  },
  {
   "cell_type": "markdown",
   "id": "9315b69d-57c0-4437-a3e8-86abc13b44ac",
   "metadata": {},
   "source": [
    "# Load API Keys"
   ]
  },
  {
   "cell_type": "code",
   "execution_count": null,
   "id": "fa2e9417-7005-44fa-b105-68a66773c001",
   "metadata": {},
   "outputs": [],
   "source": [
    "load_dotenv()\n",
    "# Now retrieve the keys\n",
    "openai_key = os.getenv(\"OPENAI_API_KEY\")\n",
    "pinecone_key = os.getenv(\"PINECONE_API_KEY\")"
   ]
  },
  {
   "cell_type": "code",
   "execution_count": null,
   "id": "d0cb04ee-c620-43e0-8311-a5bf991ba1bc",
   "metadata": {},
   "outputs": [],
   "source": [
    "# Initialize the OpenAI client\n",
    "OpenAI_client = OpenAI(\n",
    "    api_key=openai_key\n",
    ")\n",
    "\n",
    "# Initialize Pinecone v3 client\n",
    "pc = Pinecone(\n",
    "    api_key=pinecone_key\n",
    ")"
   ]
  },
  {
   "cell_type": "markdown",
   "id": "37b9265c-91d4-4c89-a7ee-53e350bddde2",
   "metadata": {},
   "source": [
    "# Load Json File"
   ]
  },
  {
   "cell_type": "code",
   "execution_count": null,
   "id": "fbdd6f2f-7059-4e35-adf2-a17e9d56387d",
   "metadata": {},
   "outputs": [],
   "source": [
    "with open('rk.json', 'rt') as rk_in:\n",
    "    docs_raw = json.load(rk_in)\n",
    "docs_raw"
   ]
  },
  {
   "cell_type": "code",
   "execution_count": null,
   "id": "fa6c11b9-355d-43ee-87f0-1f844c83d561",
   "metadata": {},
   "outputs": [],
   "source": [
    "documents = []\n",
    "\n",
    "for course_dict in docs_raw:\n",
    "    for doc in course_dict['documents']:\n",
    "        doc['course'] = course_dict['course']\n",
    "        \n",
    "        # Fix: normalize text fields to strings\n",
    "        for field in [\"question\", \"text\", \"section\"]:\n",
    "            if isinstance(doc.get(field, \"\"), list):\n",
    "                doc[field] = \" \".join(doc[field])\n",
    "            elif doc.get(field) is None:\n",
    "                doc[field] = \"\"\n",
    "            else:\n",
    "                doc[field] = str(doc[field])\n",
    "\n",
    "        documents.append(doc)\n"
   ]
  },
  {
   "cell_type": "code",
   "execution_count": null,
   "id": "4cecd54f-4c86-4b3a-a0f9-b52daa88fd24",
   "metadata": {},
   "outputs": [],
   "source": [
    "documents[0]"
   ]
  },
  {
   "cell_type": "markdown",
   "id": "ab2b46b9-ce26-42c2-9ab0-0c6aacbd6391",
   "metadata": {},
   "source": [
    "# Functions"
   ]
  },
  {
   "cell_type": "code",
   "execution_count": null,
   "id": "f818c205-c131-4d8d-9c4f-f676381642b7",
   "metadata": {},
   "outputs": [],
   "source": [
    "def build_prompt(question, search_results):\n",
    "    prompt_template = \"\"\"\n",
    "You're a course teaching assistant. Answer the QUESTION based on the CONTEXT from the rk json file.\n",
    "Use only the facts from the CONTEXT when answering the QUESTION.\n",
    "\n",
    "QUESTION: {question}\n",
    "\n",
    "CONTEXT: \n",
    "{context}\n",
    "\"\"\".strip()\n",
    "\n",
    "    context = \"\"\n",
    "    \n",
    "    for doc in search_results:\n",
    "        context = context + f\"section: {doc['section']}\\nquestion: {doc['question']}\\nanswer: {doc['text']}\\n\\n\"\n",
    "    prompt = prompt_template.format(question=question, context=context).strip()\n",
    "    return prompt"
   ]
  },
  {
   "cell_type": "code",
   "execution_count": null,
   "id": "bf370a3c-c7a1-457c-b883-4c8428859d9a",
   "metadata": {},
   "outputs": [],
   "source": [
    "def llm(prompt):\n",
    "    response = OpenAI_client.chat.completions.create(\n",
    "        model='gpt-4o',\n",
    "        messages=[{\"role\": \"user\", \"content\": prompt}]\n",
    "    )\n",
    "    \n",
    "    return response.choices[0].message.content"
   ]
  },
  {
   "cell_type": "markdown",
   "id": "5408c16c-8b09-40b7-b838-40ca1b9ec83b",
   "metadata": {},
   "source": [
    "# RAG with Vector Search"
   ]
  },
  {
   "cell_type": "code",
   "execution_count": null,
   "id": "ec623758-1fa6-4dd6-a1ad-22b5c40fbc56",
   "metadata": {},
   "outputs": [],
   "source": [
    "from tqdm import tqdm  # Progress bars (e.g., looping through files)\n",
    "from qdrant_client import QdrantClient, models\n",
    "qd_client = QdrantClient(\"http://localhost:6333\")"
   ]
  },
  {
   "cell_type": "code",
   "execution_count": null,
   "id": "8f598834-4af3-421d-96b9-3fe0c61a5eca",
   "metadata": {},
   "outputs": [],
   "source": [
    "EMBEDDING_DIMENSIONALITY = 512\n",
    "model_handle = \"jinaai/jina-embeddings-v2-small-en\""
   ]
  },
  {
   "cell_type": "code",
   "execution_count": null,
   "id": "ed9d84cc-6164-4a67-b2d4-f79899bcf246",
   "metadata": {},
   "outputs": [],
   "source": [
    "# Define the collection name\n",
    "collection_name = \"llm-rag\""
   ]
  },
  {
   "cell_type": "code",
   "execution_count": null,
   "id": "b658e225-7f6a-4891-9a35-5be70c083549",
   "metadata": {},
   "outputs": [],
   "source": [
    "qd_client.delete_collection(collection_name=collection_name)"
   ]
  },
  {
   "cell_type": "code",
   "execution_count": null,
   "id": "f3c216f1-b615-4a68-828b-f0205d4a0e53",
   "metadata": {},
   "outputs": [],
   "source": [
    "qd_client.create_collection(\n",
    "    collection_name=collection_name,\n",
    "    vectors_config=models.VectorParams(\n",
    "        size=EMBEDDING_DIMENSIONALITY,\n",
    "        distance=models.Distance.COSINE\n",
    "    )\n",
    ")"
   ]
  },
  {
   "cell_type": "code",
   "execution_count": null,
   "id": "26b71777-1b60-4a8f-b868-50b387eca8e0",
   "metadata": {},
   "outputs": [],
   "source": [
    "qd_client.create_payload_index(\n",
    "    collection_name=collection_name,\n",
    "    field_name=\"course\",\n",
    "    field_schema=\"keyword\"\n",
    ")"
   ]
  },
  {
   "cell_type": "code",
   "execution_count": null,
   "id": "3efdc0ea-b6ac-4873-bb79-91c69c8e2488",
   "metadata": {},
   "outputs": [],
   "source": [
    "points = []\n",
    "\n",
    "for i, doc in enumerate(documents):\n",
    "    text = doc['question'] + ' ' + doc['text']\n",
    "    vector = models.Document(text=text, model=model_handle)\n",
    "    point = models.PointStruct(\n",
    "        id=i,\n",
    "        vector=vector,\n",
    "        payload=doc\n",
    "    )\n",
    "    points.append(point)"
   ]
  },
  {
   "cell_type": "code",
   "execution_count": null,
   "id": "f723e22b-2c05-444d-b634-3bd7d80c54f5",
   "metadata": {},
   "outputs": [],
   "source": [
    "qd_client.upsert(\n",
    "    collection_name=collection_name,\n",
    "    points=points\n",
    ")"
   ]
  },
  {
   "cell_type": "code",
   "execution_count": null,
   "id": "27869e48-187d-44f4-8663-f346b46aed9a",
   "metadata": {},
   "outputs": [],
   "source": [
    "def vector_search(question):\n",
    "    print('vector_search is used')\n",
    "    \n",
    "    course = 'rechnerkommunikation-preparation-guide'\n",
    "    query_points = qd_client.query_points(\n",
    "        collection_name=collection_name,\n",
    "        query=models.Document(\n",
    "            text=question,\n",
    "            model=model_handle \n",
    "        ),\n",
    "        query_filter=models.Filter( \n",
    "            must=[\n",
    "                models.FieldCondition(\n",
    "                    key=\"course\",\n",
    "                    match=models.MatchValue(value=course)\n",
    "                )\n",
    "            ]\n",
    "        ),\n",
    "        limit=5,\n",
    "        with_payload=True\n",
    "    )\n",
    "    \n",
    "    results = []\n",
    "    \n",
    "    for point in query_points.points:\n",
    "        results.append(point.payload)\n",
    "    \n",
    "    return results"
   ]
  },
  {
   "cell_type": "code",
   "execution_count": null,
   "id": "55bbddc7-8c26-441d-a94a-64d298ed9b13",
   "metadata": {},
   "outputs": [],
   "source": [
    "def rag(query):\n",
    "    search_results = vector_search(query)\n",
    "    prompt = build_prompt(query, search_results)\n",
    "    answer = llm(prompt)\n",
    "    return answer"
   ]
  },
  {
   "cell_type": "code",
   "execution_count": null,
   "id": "2a1086cc-6416-4af3-b643-2eb83097137d",
   "metadata": {},
   "outputs": [],
   "source": [
    "rag('What to do regarding task 2.3?')"
   ]
  }
 ],
 "metadata": {
  "kernelspec": {
   "display_name": "Python 3 (ipykernel)",
   "language": "python",
   "name": "python3"
  },
  "language_info": {
   "codemirror_mode": {
    "name": "ipython",
    "version": 3
   },
   "file_extension": ".py",
   "mimetype": "text/x-python",
   "name": "python",
   "nbconvert_exporter": "python",
   "pygments_lexer": "ipython3",
   "version": "3.12.1"
  }
 },
 "nbformat": 4,
 "nbformat_minor": 5
}
