{
 "cells": [
  {
   "cell_type": "code",
   "execution_count": 1,
   "id": "4b185d91-a8fc-40a4-8c14-7f4b785b3ec6",
   "metadata": {},
   "outputs": [],
   "source": [
    "import openai"
   ]
  },
  {
   "cell_type": "code",
   "execution_count": 2,
   "id": "ab872bd8-19bc-4d4b-bd94-25b9331b525d",
   "metadata": {},
   "outputs": [],
   "source": [
    "from openai import OpenAI"
   ]
  },
  {
   "cell_type": "code",
   "execution_count": 3,
   "id": "04aa0d22-15e4-40e3-8554-ef8d369786ef",
   "metadata": {},
   "outputs": [],
   "source": [
    "client = OpenAI()"
   ]
  },
  {
   "cell_type": "code",
   "execution_count": 4,
   "id": "f0fe69bf-3597-4c2b-a8c9-24ca48fe4d71",
   "metadata": {},
   "outputs": [],
   "source": [
    "import os"
   ]
  },
  {
   "cell_type": "code",
   "execution_count": 7,
   "id": "228f6f7c-cd6f-452f-8a6f-759ae4ab6248",
   "metadata": {},
   "outputs": [],
   "source": [
    "response = client.chat.completions.create(\n",
    "    model='gpt-4o',\n",
    "    messages=[{\"role\": \"user\", \"content\": \"What is Egypt?\"}]\n",
    ")"
   ]
  },
  {
   "cell_type": "code",
   "execution_count": 8,
   "id": "e829b589-db38-43e6-a041-dda90f2fc46a",
   "metadata": {},
   "outputs": [
    {
     "data": {
      "text/plain": [
       "\"Egypt is a country located in the northeastern corner of Africa, with a small portion extending into the southwestern corner of Asia via the Sinai Peninsula. It is bordered by the Mediterranean Sea to the north, Libya to the west, Sudan to the south, and the Red Sea and the Gaza Strip to the east. The Suez Canal, which is a crucial waterway connecting the Mediterranean Sea to the Red Sea, runs through Egypt and serves as a major route for international trade.\\n\\nEgypt is known for its rich history and ancient civilization, which dates back thousands of years. It is home to some of the world's most famous monuments, including the Great Pyramids of Giza, the Sphinx, and the temples of Luxor and Karnak. The country's capital is Cairo, one of the largest cities in Africa and the Middle East.\\n\\nThe Nile River, the longest river in the world, runs through Egypt from south to north and is considered the lifeline of the country. It has been the foundation of Egyptian civilization since ancient times, providing water, fertile land, and a means of transportation.\\n\\nModern-day Egypt is a republic, and its political and economic landscapes have been shaped by a variety of factors, including its strategic location, rich cultural heritage, and significant natural resources. The country has a diverse economy, with sectors such as agriculture, tourism, manufacturing, and services playing key roles.\""
      ]
     },
     "execution_count": 8,
     "metadata": {},
     "output_type": "execute_result"
    }
   ],
   "source": [
    "response.choices[0].message.content"
   ]
  },
  {
   "cell_type": "code",
   "execution_count": null,
   "id": "53e8225c-460e-43ea-aa78-ace91c8570d9",
   "metadata": {},
   "outputs": [],
   "source": []
  }
 ],
 "metadata": {
  "kernelspec": {
   "display_name": "Python 3 (ipykernel)",
   "language": "python",
   "name": "python3"
  },
  "language_info": {
   "codemirror_mode": {
    "name": "ipython",
    "version": 3
   },
   "file_extension": ".py",
   "mimetype": "text/x-python",
   "name": "python",
   "nbconvert_exporter": "python",
   "pygments_lexer": "ipython3",
   "version": "3.12.1"
  }
 },
 "nbformat": 4,
 "nbformat_minor": 5
}
