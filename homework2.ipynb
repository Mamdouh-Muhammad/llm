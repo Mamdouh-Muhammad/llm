{
 "cells": [
  {
   "cell_type": "code",
   "execution_count": null,
   "id": "a66ea234-13d6-4042-a640-7d8726199d5f",
   "metadata": {},
   "outputs": [
    {
     "data": {
      "text/plain": [
       "CollectionsResponse(collections=[CollectionDescription(name='llm-sparse-and-dense'), CollectionDescription(name='llm2-sparse'), CollectionDescription(name='hm2-q3q4'), CollectionDescription(name='homework2'), CollectionDescription(name='llm-rag')])"
      ]
     },
     "execution_count": 69,
     "metadata": {},
     "output_type": "execute_result"
    }
   ],
   "source": [
    "import minsearch\n",
    "import json\n",
    "from openai import OpenAI  # OpenAI API client\n",
    "import pinecone  # Pinecone client library\n",
    "# print(pinecone.__version__)  # Print Pinecone version (optional)\n",
    "from pinecone import Pinecone, ServerlessSpec  # For setup and serverless config\n",
    "import hashlib  # For hashing (e.g., file IDs)\n",
    "import os  # OS operations and env vars\n",
    "from datetime import datetime  # Date and time handling\n",
    "from qdrant_client import QdrantClient\n",
    "from tqdm import tqdm  # Progress bars (e.g., looping through files)\n",
    "import requests  # HTTP requests (e.g., for web scraping or API calls)\n",
    "import re  # Regular expressions (e.g., for pattern matching in strings)\n",
    "from bs4 import BeautifulSoup  # HTML parsing\n",
    "from dotenv import load_dotenv  # Load .env file\n",
    "\n",
    "client = QdrantClient(\"http://localhost:6333\") #connecting to local Qdrant instance\n",
    "client.get_collections()"
   ]
  },
  {
   "cell_type": "code",
   "execution_count": 70,
   "id": "10c690ed-bd4f-4d82-8d3b-333866c4fa83",
   "metadata": {},
   "outputs": [],
   "source": [
    "from qdrant_client import QdrantClient\n",
    "\n",
    "model_handle = \"jinaai/jina-embeddings-v2-small-en\"\n"
   ]
  },
  {
   "cell_type": "code",
   "execution_count": 71,
   "id": "f740d93f-5354-411f-aa42-f9e5f058bf4c",
   "metadata": {},
   "outputs": [],
   "source": [
    "from qdrant_client.http import models\n",
    "from fastembed import TextEmbedding\n",
    "model_handle = \"jinaai/jina-embeddings-v2-small-en\"\n",
    "\n",
    "query = \"I just discovered the course. Can I join now?\"\n",
    "\n",
    "points = []\n",
    "id = 0\n",
    "point = models.PointStruct(\n",
    "            id=id,\n",
    "            vector=models.Document(text=query, model=model_handle),\n",
    "            payload={\n",
    "                \"query\": query,\n",
    "            } \n",
    "        )\n",
    "points.append(point)\n",
    "\n",
    "\n",
    "id += 1"
   ]
  },
  {
   "cell_type": "code",
   "execution_count": 72,
   "id": "164be38c-aa66-4ecb-9c75-93f75d125a26",
   "metadata": {},
   "outputs": [],
   "source": [
    "embed_model = TextEmbedding(model_name=model_handle)\n",
    "embedding_vector = list(embed_model.embed(query))\n",
    "embedding1 = embedding_vector[0]"
   ]
  },
  {
   "cell_type": "code",
   "execution_count": 44,
   "id": "151ea1b0",
   "metadata": {},
   "outputs": [
    {
     "name": "stdout",
     "output_type": "stream",
     "text": [
      "Minimal value: -0.11726373885183883\n"
     ]
    }
   ],
   "source": [
    "min_value = min(embedding1)\n",
    "print(\"Minimal value:\", min_value)"
   ]
  },
  {
   "cell_type": "code",
   "execution_count": 45,
   "id": "83596e16",
   "metadata": {},
   "outputs": [],
   "source": [
    "import numpy as np"
   ]
  },
  {
   "cell_type": "code",
   "execution_count": 73,
   "id": "3639dce6",
   "metadata": {},
   "outputs": [],
   "source": [
    "doc = 'Can I still join the course after the start date?'\n",
    "embed_model = TextEmbedding(model_name=model_handle)\n",
    "embedding_vector2 = list(embed_model.embed(doc))\n",
    "embedding2 = embedding_vector2[0]"
   ]
  },
  {
   "cell_type": "code",
   "execution_count": 74,
   "id": "3bb7c501",
   "metadata": {},
   "outputs": [
    {
     "data": {
      "text/plain": [
       "np.float64(0.9008528895674548)"
      ]
     },
     "execution_count": 74,
     "metadata": {},
     "output_type": "execute_result"
    }
   ],
   "source": [
    "embedding2.dot(embedding1)"
   ]
  },
  {
   "cell_type": "code",
   "execution_count": 77,
   "id": "2b147df0",
   "metadata": {},
   "outputs": [
    {
     "data": {
      "text/plain": [
       "[{'documents': [{'text': \"Yes, even if you don't register, you're still eligible to submit the homeworks.\\nBe aware, however, that there will be deadlines for turning in the final projects. So don't leave everything for the last minute.\",\n",
       "    'section': 'General course-related questions',\n",
       "    'question': 'Course - Can I still join the course after the start date?',\n",
       "    'course': 'data-engineering-zoomcamp'},\n",
       "   {'text': 'Yes, we will keep all the materials after the course finishes, so you can follow the course at your own pace after it finishes.\\nYou can also continue looking at the homeworks and continue preparing for the next cohort. I guess you can also start working on your final capstone project.',\n",
       "    'section': 'General course-related questions',\n",
       "    'question': 'Course - Can I follow the course after it finishes?',\n",
       "    'course': 'data-engineering-zoomcamp'},\n",
       "   {'text': \"The purpose of this document is to capture frequently asked technical questions\\nThe exact day and hour of the course will be 15th Jan 2024 at 17h00. The course will start with the first  “Office Hours'' live.1\\nSubscribe to course public Google Calendar (it works from Desktop only).\\nRegister before the course starts using this link.\\nJoin the course Telegram channel with announcements.\\nDon’t forget to register in DataTalks.Club's Slack and join the channel.\",\n",
       "    'section': 'General course-related questions',\n",
       "    'question': 'Course - When will the course start?',\n",
       "    'course': 'data-engineering-zoomcamp'},\n",
       "   {'text': 'You can start by installing and setting up all the dependencies and requirements:\\nGoogle cloud account\\nGoogle Cloud SDK\\nPython 3 (installed with Anaconda)\\nTerraform\\nGit\\nLook over the prerequisites and syllabus to see if you are comfortable with these subjects.',\n",
       "    'section': 'General course-related questions',\n",
       "    'question': 'Course - What can I do before the course starts?',\n",
       "    'course': 'data-engineering-zoomcamp'},\n",
       "   {'text': 'Star the repo! Share it with friends if you find it useful ❣️\\nCreate a PR if you see you can improve the text or the structure of the repository.',\n",
       "    'section': 'General course-related questions',\n",
       "    'question': 'How can we contribute to the course?',\n",
       "    'course': 'data-engineering-zoomcamp'}]}]"
      ]
     },
     "execution_count": 77,
     "metadata": {},
     "output_type": "execute_result"
    }
   ],
   "source": [
    "import json\n",
    "with open('q3q4hm2.json', 'rt') as rk_in:\n",
    "    docs_raw = json.load(rk_in)\n",
    "docs_raw"
   ]
  },
  {
   "cell_type": "code",
   "execution_count": null,
   "id": "97492eb2",
   "metadata": {},
   "outputs": [],
   "source": [
    "# Define the collection name\n",
    "collection_name = \"hm2-q3q4\"\n",
    "\n",
    "# Create the collection with specified vector parameters\n",
    "client.create_collection(\n",
    "    collection_name=collection_name,\n",
    "    vectors_config=models.VectorParams(\n",
    "        size=512,  # Dimensionality of the vectors\n",
    "        distance=models.Distance.COSINE  # Distance metric for similarity search\n",
    "    )\n",
    ")"
   ]
  },
  {
   "cell_type": "code",
   "execution_count": 79,
   "id": "27bfd5d4",
   "metadata": {},
   "outputs": [],
   "source": [
    "points = []\n",
    "id = 0\n",
    "\n",
    "for course in docs_raw:\n",
    "    for doc in course['documents']:\n",
    "        point = models.PointStruct(\n",
    "            id=id,\n",
    "            vector=models.Document(text=doc['text'], model=model_handle),\n",
    "            payload={\n",
    "                \"text\": doc['text'],\n",
    "                \"section\": doc['section'],\n",
    "                \"course\": doc['course'],\n",
    "                \"question\": doc['question']\n",
    "            }\n",
    "        )\n",
    "        points.append(point)\n",
    "        id += 1\n"
   ]
  },
  {
   "cell_type": "code",
   "execution_count": 80,
   "id": "98f0f2ed",
   "metadata": {},
   "outputs": [
    {
     "data": {
      "text/plain": [
       "UpdateResult(operation_id=1, status=<UpdateStatus.COMPLETED: 'completed'>)"
      ]
     },
     "execution_count": 80,
     "metadata": {},
     "output_type": "execute_result"
    }
   ],
   "source": [
    "client.upsert(\n",
    "    collection_name=collection_name,\n",
    "    points=points\n",
    ")"
   ]
  },
  {
   "cell_type": "code",
   "execution_count": 81,
   "id": "e0dacc47",
   "metadata": {},
   "outputs": [],
   "source": [
    "query = \"I just discovered the course. Can I join now?\"\n",
    "\n",
    "def search(query, limit=4):\n",
    "\n",
    "    results = client.query_points(\n",
    "        collection_name=collection_name,\n",
    "        query=models.Document( #embed the query text locally with \"jinaai/jina-embeddings-v2-small-en\"\n",
    "            text=query,\n",
    "            model=model_handle \n",
    "        ),\n",
    "        limit=limit, # top closest matches\n",
    "        with_payload=True #to get metadata in the results\n",
    "    )\n",
    "\n",
    "    return results"
   ]
  },
  {
   "cell_type": "code",
   "execution_count": 82,
   "id": "685d1104",
   "metadata": {},
   "outputs": [
    {
     "name": "stdout",
     "output_type": "stream",
     "text": [
      "points=[ScoredPoint(id=1, version=1, score=0.8182378, payload={'text': 'Yes, we will keep all the materials after the course finishes, so you can follow the course at your own pace after it finishes.\\nYou can also continue looking at the homeworks and continue preparing for the next cohort. I guess you can also start working on your final capstone project.', 'section': 'General course-related questions', 'course': 'data-engineering-zoomcamp', 'question': 'Course - Can I follow the course after it finishes?'}, vector=None, shard_key=None, order_value=None), ScoredPoint(id=2, version=1, score=0.80853975, payload={'text': \"The purpose of this document is to capture frequently asked technical questions\\nThe exact day and hour of the course will be 15th Jan 2024 at 17h00. The course will start with the first  “Office Hours'' live.1\\nSubscribe to course public Google Calendar (it works from Desktop only).\\nRegister before the course starts using this link.\\nJoin the course Telegram channel with announcements.\\nDon’t forget to register in DataTalks.Club's Slack and join the channel.\", 'section': 'General course-related questions', 'course': 'data-engineering-zoomcamp', 'question': 'Course - When will the course start?'}, vector=None, shard_key=None, order_value=None), ScoredPoint(id=0, version=1, score=0.7629685, payload={'text': \"Yes, even if you don't register, you're still eligible to submit the homeworks.\\nBe aware, however, that there will be deadlines for turning in the final projects. So don't leave everything for the last minute.\", 'section': 'General course-related questions', 'course': 'data-engineering-zoomcamp', 'question': 'Course - Can I still join the course after the start date?'}, vector=None, shard_key=None, order_value=None), ScoredPoint(id=4, version=1, score=0.7304499, payload={'text': 'Star the repo! Share it with friends if you find it useful ❣️\\nCreate a PR if you see you can improve the text or the structure of the repository.', 'section': 'General course-related questions', 'course': 'data-engineering-zoomcamp', 'question': 'How can we contribute to the course?'}, vector=None, shard_key=None, order_value=None)]\n"
     ]
    }
   ],
   "source": [
    "print(search(query, limit=4))"
   ]
  },
  {
   "cell_type": "code",
   "execution_count": 83,
   "id": "aa42c78d",
   "metadata": {},
   "outputs": [
    {
     "data": {
      "text/plain": [
       "np.float64(0.7371250511873899)"
      ]
     },
     "execution_count": 83,
     "metadata": {},
     "output_type": "execute_result"
    }
   ],
   "source": [
    "embed_model = TextEmbedding(model_name=model_handle)\n",
    "embedding_vector1 = list(embed_model.embed(doc))\n",
    "embedding1 = embedding_vector1[0]\n",
    "\n",
    "\n",
    "query = \"I just discovered the course. Can I join now?\"\n",
    "embedding_vector2 = list(embed_model.embed(query))\n",
    "embedding2 = embedding_vector2[0]\n",
    "\n",
    "\n",
    "embedding2.dot(embedding1)"
   ]
  },
  {
   "cell_type": "code",
   "execution_count": null,
   "id": "a03f8c5f",
   "metadata": {},
   "outputs": [],
   "source": []
  },
  {
   "cell_type": "code",
   "execution_count": null,
   "id": "d0c3c627",
   "metadata": {},
   "outputs": [],
   "source": [
    "# Define the collection name\n",
    "collection_name = \"hm2-q3q4-2\"\n",
    "\n",
    "# Create the collection with specified vector parameters\n",
    "client.create_collection(\n",
    "    collection_name=collection_name,\n",
    "    vectors_config=models.VectorParams(\n",
    "        size=512,  # Dimensionality of the vectors\n",
    "        distance=models.Distance.COSINE  # Distance metric for similarity search\n",
    "    )\n",
    ")\n"
   ]
  },
  {
   "cell_type": "code",
   "execution_count": 95,
   "id": "35435832",
   "metadata": {},
   "outputs": [],
   "source": [
    "embed_model = TextEmbedding(model_name=model_handle)\n",
    "\n",
    "points = []\n",
    "id = 0\n",
    "\n",
    "for course in docs_raw:\n",
    "    for doc in course['documents']:\n",
    "        fulltext = doc['question'] + \" \" + doc['text']\n",
    "        embedding = list(embed_model.embed([fulltext]))[0]\n",
    "        point = models.PointStruct(\n",
    "            id=id,\n",
    "            vector=embedding,\n",
    "            payload={\n",
    "                \"text\": doc['text'],\n",
    "                \"section\": doc['section'],\n",
    "                \"course\": doc['course'],\n",
    "                \"question\": doc['question']\n",
    "            }\n",
    "        )\n",
    "        points.append(point)\n",
    "        id += 1\n"
   ]
  },
  {
   "cell_type": "code",
   "execution_count": 96,
   "id": "565923cf",
   "metadata": {},
   "outputs": [],
   "source": [
    "client.upsert(\n",
    "    collection_name=collection_name,\n",
    "    points=points\n",
    ")\n",
    "\n",
    "\n",
    "query = \"I just discovered the course. Can I join now?\"\n",
    "\n",
    "def search(query, limit=4):\n",
    "\n",
    "    results = client.query_points(\n",
    "        collection_name=collection_name,\n",
    "        query=models.Document( #embed the query text locally with \"jinaai/jina-embeddings-v2-small-en\"\n",
    "            text=query,\n",
    "            model=model_handle \n",
    "        ),\n",
    "        limit=limit, # top closest matches\n",
    "        with_payload=True #to get metadata in the results\n",
    "    )\n",
    "\n",
    "    return results"
   ]
  },
  {
   "cell_type": "code",
   "execution_count": 97,
   "id": "6d76fea4",
   "metadata": {},
   "outputs": [
    {
     "name": "stdout",
     "output_type": "stream",
     "text": [
      "points=[ScoredPoint(id=0, version=2, score=0.8514543, payload={'text': \"Yes, even if you don't register, you're still eligible to submit the homeworks.\\nBe aware, however, that there will be deadlines for turning in the final projects. So don't leave everything for the last minute.\", 'section': 'General course-related questions', 'course': 'data-engineering-zoomcamp', 'question': 'Course - Can I still join the course after the start date?'}, vector=None, shard_key=None, order_value=None), ScoredPoint(id=1, version=2, score=0.8436594, payload={'text': 'Yes, we will keep all the materials after the course finishes, so you can follow the course at your own pace after it finishes.\\nYou can also continue looking at the homeworks and continue preparing for the next cohort. I guess you can also start working on your final capstone project.', 'section': 'General course-related questions', 'course': 'data-engineering-zoomcamp', 'question': 'Course - Can I follow the course after it finishes?'}, vector=None, shard_key=None, order_value=None), ScoredPoint(id=2, version=2, score=0.84082866, payload={'text': \"The purpose of this document is to capture frequently asked technical questions\\nThe exact day and hour of the course will be 15th Jan 2024 at 17h00. The course will start with the first  “Office Hours'' live.1\\nSubscribe to course public Google Calendar (it works from Desktop only).\\nRegister before the course starts using this link.\\nJoin the course Telegram channel with announcements.\\nDon’t forget to register in DataTalks.Club's Slack and join the channel.\", 'section': 'General course-related questions', 'course': 'data-engineering-zoomcamp', 'question': 'Course - When will the course start?'}, vector=None, shard_key=None, order_value=None), ScoredPoint(id=4, version=2, score=0.8086008, payload={'text': 'Star the repo! Share it with friends if you find it useful ❣️\\nCreate a PR if you see you can improve the text or the structure of the repository.', 'section': 'General course-related questions', 'course': 'data-engineering-zoomcamp', 'question': 'How can we contribute to the course?'}, vector=None, shard_key=None, order_value=None)]\n"
     ]
    }
   ],
   "source": [
    "print(search(query, limit=4))"
   ]
  },
  {
   "cell_type": "code",
   "execution_count": 102,
   "id": "0dcbe2da",
   "metadata": {},
   "outputs": [
    {
     "name": "stdout",
     "output_type": "stream",
     "text": [
      "{\n",
      "  \"model\": \"BAAI/bge-small-en\",\n",
      "  \"sources\": {\n",
      "    \"hf\": \"Qdrant/bge-small-en\",\n",
      "    \"url\": \"https://storage.googleapis.com/qdrant-fastembed/BAAI-bge-small-en.tar.gz\",\n",
      "    \"_deprecated_tar_struct\": true\n",
      "  },\n",
      "  \"model_file\": \"model_optimized.onnx\",\n",
      "  \"description\": \"Text embeddings, Unimodal (text), English, 512 input tokens truncation, Prefixes for queries/documents: necessary, 2023 year.\",\n",
      "  \"license\": \"mit\",\n",
      "  \"size_in_GB\": 0.13,\n",
      "  \"additional_files\": [],\n",
      "  \"dim\": 384,\n",
      "  \"tasks\": {}\n",
      "}\n",
      "{\n",
      "  \"model\": \"BAAI/bge-small-en-v1.5\",\n",
      "  \"sources\": {\n",
      "    \"hf\": \"qdrant/bge-small-en-v1.5-onnx-q\",\n",
      "    \"url\": null,\n",
      "    \"_deprecated_tar_struct\": false\n",
      "  },\n",
      "  \"model_file\": \"model_optimized.onnx\",\n",
      "  \"description\": \"Text embeddings, Unimodal (text), English, 512 input tokens truncation, Prefixes for queries/documents: not so necessary, 2023 year.\",\n",
      "  \"license\": \"mit\",\n",
      "  \"size_in_GB\": 0.067,\n",
      "  \"additional_files\": [],\n",
      "  \"dim\": 384,\n",
      "  \"tasks\": {}\n",
      "}\n",
      "{\n",
      "  \"model\": \"snowflake/snowflake-arctic-embed-xs\",\n",
      "  \"sources\": {\n",
      "    \"hf\": \"snowflake/snowflake-arctic-embed-xs\",\n",
      "    \"url\": null,\n",
      "    \"_deprecated_tar_struct\": false\n",
      "  },\n",
      "  \"model_file\": \"onnx/model.onnx\",\n",
      "  \"description\": \"Text embeddings, Unimodal (text), English, 512 input tokens truncation, Prefixes for queries/documents: necessary, 2024 year.\",\n",
      "  \"license\": \"apache-2.0\",\n",
      "  \"size_in_GB\": 0.09,\n",
      "  \"additional_files\": [],\n",
      "  \"dim\": 384,\n",
      "  \"tasks\": {}\n",
      "}\n",
      "{\n",
      "  \"model\": \"snowflake/snowflake-arctic-embed-s\",\n",
      "  \"sources\": {\n",
      "    \"hf\": \"snowflake/snowflake-arctic-embed-s\",\n",
      "    \"url\": null,\n",
      "    \"_deprecated_tar_struct\": false\n",
      "  },\n",
      "  \"model_file\": \"onnx/model.onnx\",\n",
      "  \"description\": \"Text embeddings, Unimodal (text), English, 512 input tokens truncation, Prefixes for queries/documents: necessary, 2024 year.\",\n",
      "  \"license\": \"apache-2.0\",\n",
      "  \"size_in_GB\": 0.13,\n",
      "  \"additional_files\": [],\n",
      "  \"dim\": 384,\n",
      "  \"tasks\": {}\n",
      "}\n",
      "{\n",
      "  \"model\": \"sentence-transformers/all-MiniLM-L6-v2\",\n",
      "  \"sources\": {\n",
      "    \"hf\": \"qdrant/all-MiniLM-L6-v2-onnx\",\n",
      "    \"url\": \"https://storage.googleapis.com/qdrant-fastembed/sentence-transformers-all-MiniLM-L6-v2.tar.gz\",\n",
      "    \"_deprecated_tar_struct\": true\n",
      "  },\n",
      "  \"model_file\": \"model.onnx\",\n",
      "  \"description\": \"Text embeddings, Unimodal (text), English, 256 input tokens truncation, Prefixes for queries/documents: not necessary, 2021 year.\",\n",
      "  \"license\": \"apache-2.0\",\n",
      "  \"size_in_GB\": 0.09,\n",
      "  \"additional_files\": [],\n",
      "  \"dim\": 384,\n",
      "  \"tasks\": {}\n",
      "}\n",
      "{\n",
      "  \"model\": \"sentence-transformers/paraphrase-multilingual-MiniLM-L12-v2\",\n",
      "  \"sources\": {\n",
      "    \"hf\": \"qdrant/paraphrase-multilingual-MiniLM-L12-v2-onnx-Q\",\n",
      "    \"url\": null,\n",
      "    \"_deprecated_tar_struct\": false\n",
      "  },\n",
      "  \"model_file\": \"model_optimized.onnx\",\n",
      "  \"description\": \"Text embeddings, Unimodal (text), Multilingual (~50 languages), 512 input tokens truncation, Prefixes for queries/documents: not necessary, 2019 year.\",\n",
      "  \"license\": \"apache-2.0\",\n",
      "  \"size_in_GB\": 0.22,\n",
      "  \"additional_files\": [],\n",
      "  \"dim\": 384,\n",
      "  \"tasks\": {}\n",
      "}\n"
     ]
    }
   ],
   "source": [
    "import json\n",
    "\n",
    "EMBEDDING_DIMENSIONALITY = 384\n",
    "\n",
    "for model in TextEmbedding.list_supported_models():\n",
    "    if model[\"dim\"] == EMBEDDING_DIMENSIONALITY:\n",
    "        print(json.dumps(model, indent=2))"
   ]
  },
  {
   "cell_type": "code",
   "execution_count": null,
   "id": "a96ed95a",
   "metadata": {},
   "outputs": [],
   "source": [
    "import requests \n",
    "\n",
    "docs_url = 'https://github.com/alexeygrigorev/llm-rag-workshop/raw/main/notebooks/documents.json'\n",
    "docs_response = requests.get(docs_url)\n",
    "documents_raw = docs_response.json()\n",
    "\n",
    "documents = []\n",
    "\n",
    "for course in documents_raw:\n",
    "    course_name = course['course']\n",
    "    if course_name != 'machine-learning-zoomcamp':\n",
    "        continue\n",
    "\n",
    "    for doc in course['documents']:\n",
    "        doc['course'] = course_name\n",
    "        documents.append(doc)"
   ]
  },
  {
   "cell_type": "code",
   "execution_count": 108,
   "id": "e4e01751",
   "metadata": {},
   "outputs": [],
   "source": [
    "model_handle = \"BAAI/bge-small-en\""
   ]
  },
  {
   "cell_type": "code",
   "execution_count": 112,
   "id": "83b96341",
   "metadata": {},
   "outputs": [
    {
     "data": {
      "text/plain": [
       "True"
      ]
     },
     "execution_count": 112,
     "metadata": {},
     "output_type": "execute_result"
    }
   ],
   "source": [
    "# Define the collection name\n",
    "collection_name = \"hm2-q8\"\n",
    "\n",
    "# Create the collection with specified vector parameters\n",
    "client.create_collection(\n",
    "    collection_name=collection_name,\n",
    "    vectors_config=models.VectorParams(\n",
    "        size=384,  # Dimensionality of the vectors\n",
    "        distance=models.Distance.COSINE  # Distance metric for similarity search\n",
    "    )\n",
    ")"
   ]
  },
  {
   "cell_type": "code",
   "execution_count": 113,
   "id": "0ba58082",
   "metadata": {},
   "outputs": [],
   "source": [
    "embed_model = TextEmbedding(model_name=model_handle)\n",
    "\n",
    "points = []\n",
    "id = 0\n",
    "\n",
    "for course in docs_raw:\n",
    "    for doc in course['documents']:\n",
    "        fulltext = doc['question'] + \" \" + doc['text']\n",
    "        embedding = list(embed_model.embed([fulltext]))[0]\n",
    "        point = models.PointStruct(\n",
    "            id=id,\n",
    "            vector=embedding,\n",
    "            payload={\n",
    "                \"text\": doc['text'],\n",
    "                \"section\": doc['section']\n",
    "            }\n",
    "        )\n",
    "        points.append(point)\n",
    "        id += 1\n"
   ]
  },
  {
   "cell_type": "code",
   "execution_count": 114,
   "id": "f64e717b",
   "metadata": {},
   "outputs": [
    {
     "data": {
      "text/plain": [
       "np.float32(0.78359246)"
      ]
     },
     "execution_count": 114,
     "metadata": {},
     "output_type": "execute_result"
    }
   ],
   "source": [
    "embed_model = TextEmbedding(model_name=model_handle)\n",
    "embedding_vector1 = list(embed_model.embed(doc))\n",
    "embedding1 = embedding_vector1[0]\n",
    "\n",
    "\n",
    "query = \"I just discovered the course. Can I join now?\"\n",
    "embedding_vector2 = list(embed_model.embed(query))\n",
    "embedding2 = embedding_vector2[0]\n",
    "\n",
    "\n",
    "embedding2.dot(embedding1)"
   ]
  },
  {
   "cell_type": "code",
   "execution_count": null,
   "id": "d16764da",
   "metadata": {},
   "outputs": [],
   "source": []
  }
 ],
 "metadata": {
  "kernelspec": {
   "display_name": "Python 3",
   "language": "python",
   "name": "python3"
  },
  "language_info": {
   "codemirror_mode": {
    "name": "ipython",
    "version": 3
   },
   "file_extension": ".py",
   "mimetype": "text/x-python",
   "name": "python",
   "nbconvert_exporter": "python",
   "pygments_lexer": "ipython3",
   "version": "3.12.1"
  }
 },
 "nbformat": 4,
 "nbformat_minor": 5
}
