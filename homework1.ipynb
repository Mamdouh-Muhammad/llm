{
 "cells": [
  {
   "cell_type": "markdown",
   "id": "1e344edc-1603-4f94-8c18-66d704ad4f6b",
   "metadata": {},
   "source": [
    "# (HW1) Json + Elastic Search + OpenAI API"
   ]
  },
  {
   "cell_type": "markdown",
   "id": "ee3d4400-af5c-4d33-b74a-fbf033a7d894",
   "metadata": {},
   "source": [
    "# Import packages and modules"
   ]
  },
  {
   "cell_type": "code",
   "execution_count": null,
   "id": "a66ea234-13d6-4042-a640-7d8726199d5f",
   "metadata": {},
   "outputs": [],
   "source": [
    "import minsearch\n",
    "import json\n",
    "from openai import OpenAI  # OpenAI API client\n",
    "import pinecone  # Pinecone client library\n",
    "# print(pinecone.__version__)  # Print Pinecone version (optional)\n",
    "from pinecone import Pinecone, ServerlessSpec  # For setup and serverless config\n",
    "import hashlib  # For hashing (e.g., file IDs)\n",
    "import os  # OS operations and env vars\n",
    "from datetime import datetime  # Date and time handling\n",
    "from tqdm import tqdm  # Progress bars (e.g., looping through files)\n",
    "import requests  # HTTP requests (e.g., for web scraping or API calls)\n",
    "import re  # Regular expressions (e.g., for pattern matching in strings)\n",
    "from bs4 import BeautifulSoup  # HTML parsing\n",
    "from dotenv import load_dotenv  # Load .env file"
   ]
  },
  {
   "cell_type": "markdown",
   "id": "9315b69d-57c0-4437-a3e8-86abc13b44ac",
   "metadata": {},
   "source": [
    "# Load API Keys"
   ]
  },
  {
   "cell_type": "code",
   "execution_count": null,
   "id": "fa2e9417-7005-44fa-b105-68a66773c001",
   "metadata": {},
   "outputs": [],
   "source": [
    "load_dotenv()\n",
    "# Now retrieve the keys\n",
    "openai_key = os.getenv(\"OPENAI_API_KEY\")\n",
    "pinecone_key = os.getenv(\"PINECONE_API_KEY\")"
   ]
  },
  {
   "cell_type": "code",
   "execution_count": null,
   "id": "d0cb04ee-c620-43e0-8311-a5bf991ba1bc",
   "metadata": {},
   "outputs": [],
   "source": [
    "# Initialize the OpenAI client\n",
    "client = OpenAI(\n",
    "    api_key=openai_key\n",
    ")\n",
    "\n",
    "# Initialize Pinecone v3 client\n",
    "pc = Pinecone(\n",
    "    api_key=pinecone_key\n",
    ")"
   ]
  },
  {
   "cell_type": "markdown",
   "id": "37b9265c-91d4-4c89-a7ee-53e350bddde2",
   "metadata": {},
   "source": [
    "# Load Json File"
   ]
  },
  {
   "cell_type": "code",
   "execution_count": null,
   "id": "fbdd6f2f-7059-4e35-adf2-a17e9d56387d",
   "metadata": {},
   "outputs": [],
   "source": [
    "docs_url = 'https://github.com/DataTalksClub/llm-zoomcamp/blob/main/01-intro/documents.json?raw=1'\n",
    "docs_response = requests.get(docs_url)\n",
    "documents_raw = docs_response.json()\n",
    "\n",
    "documents = []\n",
    "\n",
    "for course in documents_raw:\n",
    "    course_name = course['course']\n",
    "\n",
    "    for doc in course['documents']:\n",
    "        doc['course'] = course_name\n",
    "        documents.append(doc)"
   ]
  },
  {
   "cell_type": "code",
   "execution_count": null,
   "id": "fa6c11b9-355d-43ee-87f0-1f844c83d561",
   "metadata": {},
   "outputs": [],
   "source": [
    "documents = []\n",
    "\n",
    "for course_dict in docs_raw:\n",
    "    for doc in course_dict['documents']:\n",
    "        doc['course'] = course_dict['course']\n",
    "        \n",
    "        # Fix: normalize text fields to strings\n",
    "        for field in [\"question\", \"text\", \"section\"]:\n",
    "            if isinstance(doc.get(field, \"\"), list):\n",
    "                doc[field] = \" \".join(doc[field])\n",
    "            elif doc.get(field) is None:\n",
    "                doc[field] = \"\"\n",
    "            else:\n",
    "                doc[field] = str(doc[field])\n",
    "\n",
    "        documents.append(doc)\n"
   ]
  },
  {
   "cell_type": "code",
   "execution_count": null,
   "id": "a2aa0af0-e757-49af-a56e-204b9cd5c15a",
   "metadata": {},
   "outputs": [],
   "source": [
    "#documents[0]"
   ]
  },
  {
   "cell_type": "markdown",
   "id": "14d26d95-1129-4926-96e7-489465360add",
   "metadata": {},
   "source": [
    "# Elastic Search"
   ]
  },
  {
   "cell_type": "code",
   "execution_count": null,
   "id": "f2039cd7-937d-4bfe-80f8-351004485608",
   "metadata": {},
   "outputs": [],
   "source": [
    "# docker run -it \\\n",
    "#     --rm \\\n",
    "#     --name elasticsearch \\\n",
    "#     -m 4GB \\\n",
    "#     -p 9200:9200 \\\n",
    "#     -p 9300:9300 \\\n",
    "#     -e \"discovery.type=single-node\" \\\n",
    "#     -e \"xpack.security.enabled=false\" \\\n",
    "#     docker.elastic.co/elasticsearch/elasticsearch:8.17.6"
   ]
  },
  {
   "cell_type": "code",
   "execution_count": null,
   "id": "b8423e98-bcab-4f54-8b02-19551f202eb8",
   "metadata": {},
   "outputs": [],
   "source": [
    "from elasticsearch import Elasticsearch"
   ]
  },
  {
   "cell_type": "code",
   "execution_count": null,
   "id": "b613ae78-17b8-4a75-878b-b773482dcfac",
   "metadata": {},
   "outputs": [],
   "source": [
    "es_client = Elasticsearch('http://localhost:9200')"
   ]
  },
  {
   "cell_type": "code",
   "execution_count": null,
   "id": "fbf637a9-6165-437b-8372-30d2e6fa3ebb",
   "metadata": {},
   "outputs": [],
   "source": [
    "es_client.info()"
   ]
  },
  {
   "cell_type": "code",
   "execution_count": null,
   "id": "db743168-644e-4aad-b5ea-f3a0d9a9d3d3",
   "metadata": {},
   "outputs": [],
   "source": [
    "!!curl localhost:9200"
   ]
  },
  {
   "cell_type": "code",
   "execution_count": null,
   "id": "87147ea5-11aa-4fe2-81f8-460548ae8e43",
   "metadata": {},
   "outputs": [],
   "source": [
    "import requests \n",
    "\n",
    "docs_url = 'https://github.com/DataTalksClub/llm-zoomcamp/blob/main/01-intro/documents.json?raw=1'\n",
    "docs_response = requests.get(docs_url)\n",
    "documents_raw = docs_response.json()\n",
    "\n",
    "documents = []\n",
    "\n",
    "for course in documents_raw:\n",
    "    course_name = course['course']\n",
    "\n",
    "    for doc in course['documents']:\n",
    "        doc['course'] = course_name\n",
    "        documents.append(doc)"
   ]
  },
  {
   "cell_type": "code",
   "execution_count": null,
   "id": "d2518060-8631-436d-8a4f-5262cc8ecf15",
   "metadata": {},
   "outputs": [],
   "source": [
    "index_settings = {\n",
    "    \"settings\": {\n",
    "        \"number_of_shards\": 1,\n",
    "        \"number_of_replicas\": 0\n",
    "    },\n",
    "    \"mappings\": {\n",
    "        \"properties\": {\n",
    "            \"text\": {\"type\": \"text\"},\n",
    "            \"section\": {\"type\": \"text\"},\n",
    "            \"question\": {\"type\": \"text\"},\n",
    "            \"course\": {\"type\": \"keyword\"} \n",
    "        }\n",
    "    }\n",
    "}\n",
    "\n",
    "index_name = \"course-questions\"\n",
    "\n",
    "es_client.indices.create(index=index_name, body=index_settings)"
   ]
  },
  {
   "cell_type": "code",
   "execution_count": null,
   "id": "94d58a5f-7440-4646-8d91-d850d990b9ab",
   "metadata": {},
   "outputs": [],
   "source": [
    "documents[0]"
   ]
  },
  {
   "cell_type": "code",
   "execution_count": null,
   "id": "0316e4e9-8ebb-4cd6-95e7-e2ec9cd26d9b",
   "metadata": {},
   "outputs": [],
   "source": [
    "for doc in tqdm(documents):\n",
    "    es_client.index(index=index_name, document=doc)"
   ]
  },
  {
   "cell_type": "markdown",
   "id": "999a516b-3ca1-4506-b652-36f3d8f42792",
   "metadata": {},
   "source": [
    "# Functions"
   ]
  },
  {
   "cell_type": "code",
   "execution_count": null,
   "id": "45526e12-4f88-4687-bff6-c0686a32ffda",
   "metadata": {},
   "outputs": [],
   "source": [
    "#question = 'How do execute a command on a Kubernetes pod?'"
   ]
  },
  {
   "cell_type": "code",
   "execution_count": null,
   "id": "eb933a04-26d2-4e4b-94cd-381ce8461de2",
   "metadata": {},
   "outputs": [],
   "source": [
    "question = 'How do copy a file to a Docker container?'"
   ]
  },
  {
   "cell_type": "code",
   "execution_count": null,
   "id": "775c0218-9987-4bbd-965f-90fed79d7a1b",
   "metadata": {},
   "outputs": [],
   "source": [
    "def elastic_search(question):\n",
    "    search_query = {\n",
    "        \"size\": 5,\n",
    "        \"query\": {\n",
    "            \"bool\": {\n",
    "                \"must\": {\n",
    "                    \"multi_match\": {\n",
    "                        \"query\": question,\n",
    "                        \"fields\": [\"question^4\", \"text\"],\n",
    "                        \"type\": \"best_fields\"\n",
    "                    }\n",
    "                },\n",
    "                \"filter\": {\n",
    "                    \"term\": {\n",
    "                        \"course\": \"machine-learning-zoomcamp\"\n",
    "                    }\n",
    "                }\n",
    "            }\n",
    "        }\n",
    "    }\n",
    "\n",
    "    response = es_client.search(index=index_name, body=search_query)\n",
    "    \n",
    "    result_docs = []\n",
    "    \n",
    "    for hit in response['hits']['hits']:\n",
    "        result_docs.append(hit['_source'])\n",
    "    \n",
    "    return result_docs"
   ]
  },
  {
   "cell_type": "code",
   "execution_count": null,
   "id": "ed8271fe-e322-4791-bd0e-e3e9c1a6584e",
   "metadata": {},
   "outputs": [],
   "source": [
    "elastic_search(question)"
   ]
  },
  {
   "cell_type": "code",
   "execution_count": null,
   "id": "8ab60c83-b12c-498f-b587-0f29c489ac53",
   "metadata": {},
   "outputs": [],
   "source": [
    "def build_prompt(question, search_results):\n",
    "    prompt_template = \"\"\"\n",
    "You're a course teaching assistant. Answer the QUESTION based on the CONTEXT from the FAQ database.\n",
    "Use only the facts from the CONTEXT when answering the QUESTION.\n",
    "\n",
    "QUESTION: {question}\n",
    "\n",
    "CONTEXT:\n",
    "{context}\n",
    "\"\"\".strip()\n",
    "\n",
    "    context = \"\"\n",
    "    \n",
    "    for doc in search_results:\n",
    "        context = context + f\"section: question: {doc['question']}\\nanswer: {doc['text']}\\n\\n\"\n",
    "    prompt = prompt_template.format(question=question, context=context).strip()\n",
    "    return prompt"
   ]
  },
  {
   "cell_type": "code",
   "execution_count": null,
   "id": "bf370a3c-c7a1-457c-b883-4c8428859d9a",
   "metadata": {},
   "outputs": [],
   "source": [
    "def llm(prompt):\n",
    "    response = client.chat.completions.create(\n",
    "        model='gpt-4o',\n",
    "        messages=[{\"role\": \"user\", \"content\": prompt}]\n",
    "    )\n",
    "    \n",
    "    return response.choices[0].message.content"
   ]
  },
  {
   "cell_type": "code",
   "execution_count": null,
   "id": "bebd0ffb-0624-47fc-9cc4-3bc6be57eff0",
   "metadata": {},
   "outputs": [],
   "source": [
    "import tiktoken\n",
    "\n",
    "def rag(question):\n",
    "    search_results = elastic_search(question)\n",
    "    prompt = build_prompt(question, search_results)\n",
    "    \n",
    "    # Token counting using tiktoken\n",
    "    encoding = tiktoken.encoding_for_model(\"gpt-4o\")\n",
    "    num_tokens = len(encoding.encode(prompt))\n",
    "    print(f\"Prompt length (in characters): {len(prompt)}\")\n",
    "    print(f\"Prompt length (in tokens): {num_tokens}\")\n",
    "    \n",
    "    answer = llm(prompt)\n",
    "    return answer"
   ]
  },
  {
   "cell_type": "code",
   "execution_count": 169,
   "id": "756a28dd-dbd8-4687-b482-0fabe5a9bff7",
   "metadata": {},
   "outputs": [
    {
     "name": "stderr",
     "output_type": "stream",
     "text": [
      "/tmp/ipykernel_5375/3278851099.py:22: DeprecationWarning: The 'body' parameter is deprecated and will be removed in a future version. Instead use individual parameters.\n",
      "  response = es_client.search(index=index_name, body=search_query)\n"
     ]
    },
    {
     "name": "stdout",
     "output_type": "stream",
     "text": [
      "2264\n",
      "Prompt length (in characters): 2264\n",
      "Prompt length (in tokens): 500\n"
     ]
    },
    {
     "data": {
      "text/plain": [
       "'To copy a file to a Docker container, you can use the `docker cp` command. The basic syntax is as follows:\\n\\n```bash\\ndocker cp /path/to/local/file_or_directory container_id:/path/in/container\\n```'"
      ]
     },
     "execution_count": 169,
     "metadata": {},
     "output_type": "execute_result"
    }
   ],
   "source": [
    "rag(question)"
   ]
  },
  {
   "cell_type": "code",
   "execution_count": null,
   "id": "445e8e5d-eecb-4e65-9216-2833e1dd0d1c",
   "metadata": {},
   "outputs": [],
   "source": []
  },
  {
   "cell_type": "code",
   "execution_count": null,
   "id": "d967bb9f-6133-497c-b3be-9ed2e7a7a08d",
   "metadata": {},
   "outputs": [],
   "source": []
  },
  {
   "cell_type": "code",
   "execution_count": null,
   "id": "6b73138c-bee8-4d88-973b-0a9556a2f0a6",
   "metadata": {},
   "outputs": [],
   "source": []
  },
  {
   "cell_type": "code",
   "execution_count": null,
   "id": "b7009dd9-d897-4df1-bae9-823deb582f10",
   "metadata": {},
   "outputs": [],
   "source": []
  },
  {
   "cell_type": "code",
   "execution_count": null,
   "id": "20dfae00-0d17-4c6f-b93f-9f8953379325",
   "metadata": {},
   "outputs": [],
   "source": []
  },
  {
   "cell_type": "code",
   "execution_count": null,
   "id": "669cd522-8713-401a-a998-bd501dfc8c6a",
   "metadata": {},
   "outputs": [],
   "source": []
  },
  {
   "cell_type": "code",
   "execution_count": null,
   "id": "edf34b3e-96a4-4ca1-b386-23dcd649b6d3",
   "metadata": {},
   "outputs": [],
   "source": []
  },
  {
   "cell_type": "code",
   "execution_count": null,
   "id": "8eb723c3-ba8c-497e-9dc7-09264341b505",
   "metadata": {},
   "outputs": [],
   "source": []
  },
  {
   "cell_type": "code",
   "execution_count": null,
   "id": "4d9d0d56-7dfb-4bb5-811e-db7bc68e4691",
   "metadata": {},
   "outputs": [],
   "source": []
  },
  {
   "cell_type": "code",
   "execution_count": null,
   "id": "4602803a-9aca-49a0-90d8-af6114b4ee12",
   "metadata": {},
   "outputs": [],
   "source": []
  },
  {
   "cell_type": "code",
   "execution_count": null,
   "id": "4b6be7be-fbf2-498b-adba-44973c8ff61c",
   "metadata": {},
   "outputs": [],
   "source": []
  }
 ],
 "metadata": {
  "kernelspec": {
   "display_name": "Python 3 (ipykernel)",
   "language": "python",
   "name": "python3"
  },
  "language_info": {
   "codemirror_mode": {
    "name": "ipython",
    "version": 3
   },
   "file_extension": ".py",
   "mimetype": "text/x-python",
   "name": "python",
   "nbconvert_exporter": "python",
   "pygments_lexer": "ipython3",
   "version": "3.12.1"
  }
 },
 "nbformat": 4,
 "nbformat_minor": 5
}
