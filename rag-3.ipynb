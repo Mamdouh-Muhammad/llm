{
 "cells": [
  {
   "cell_type": "code",
   "execution_count": null,
   "id": "195076d4-4c93-4b3f-8170-9aa0dd17d87f",
   "metadata": {},
   "outputs": [],
   "source": [
    "import time\n",
    "\n",
    "while True:\n",
    "    print(\"Keeping the notebook alive...\")\n",
    "    time.sleep(1500)  # 5 minutes\n"
   ]
  },
  {
   "cell_type": "code",
   "execution_count": null,
   "id": "995f01f7-c0df-4f8c-977d-cb33ef2ed9c1",
   "metadata": {},
   "outputs": [],
   "source": [
    "# docker run -p 6333:6333 -p 6334:6334 \\\n",
    "#    -v \"$(pwd)/qdrant_storage:/qdrant/storage:z\" \\\n",
    "#     qdrant/qdrant"
   ]
  },
  {
   "cell_type": "markdown",
   "id": "1e344edc-1603-4f94-8c18-66d704ad4f6b",
   "metadata": {},
   "source": [
    "# Json + Qdrant + OpenAI API"
   ]
  },
  {
   "cell_type": "code",
   "execution_count": null,
   "id": "d671ec9d-5198-4a9f-9bb2-49cc57327541",
   "metadata": {},
   "outputs": [],
   "source": [
    "import requests\n",
    "from tqdm import tqdm  # Progress bars (e.g., looping through files)"
   ]
  },
  {
   "cell_type": "markdown",
   "id": "ee3d4400-af5c-4d33-b74a-fbf033a7d894",
   "metadata": {},
   "source": [
    "# Connect to Qdrant"
   ]
  },
  {
   "cell_type": "code",
   "execution_count": null,
   "id": "a66ea234-13d6-4042-a640-7d8726199d5f",
   "metadata": {},
   "outputs": [],
   "source": [
    "from qdrant_client import QdrantClient, models\n",
    "client = QdrantClient(\"http://localhost:6333\") #connecting to local Qdrant instance"
   ]
  },
  {
   "cell_type": "markdown",
   "id": "9315b69d-57c0-4437-a3e8-86abc13b44ac",
   "metadata": {},
   "source": [
    "# Study the Dataset"
   ]
  },
  {
   "cell_type": "code",
   "execution_count": null,
   "id": "fa2e9417-7005-44fa-b105-68a66773c001",
   "metadata": {},
   "outputs": [],
   "source": [
    "docs_url = 'https://raw.githubusercontent.com/Mamdouh-Muhammad/llm/refs/heads/main/rk.json'\n",
    "docs_response = requests.get(docs_url)\n",
    "documents_raw = docs_response.json()"
   ]
  },
  {
   "cell_type": "code",
   "execution_count": null,
   "id": "d0cb04ee-c620-43e0-8311-a5bf991ba1bc",
   "metadata": {},
   "outputs": [],
   "source": [
    "documents_raw[0]"
   ]
  },
  {
   "cell_type": "markdown",
   "id": "c15d3f44-f8a7-40a6-b6ef-3781e8208605",
   "metadata": {},
   "source": [
    "# Choosing the Embedding Model with FastEmbed"
   ]
  },
  {
   "cell_type": "code",
   "execution_count": null,
   "id": "fbdd6f2f-7059-4e35-adf2-a17e9d56387d",
   "metadata": {
    "scrolled": true
   },
   "outputs": [],
   "source": [
    "from fastembed import TextEmbedding\n",
    "# TextEmbedding.list_supported_models()"
   ]
  },
  {
   "cell_type": "code",
   "execution_count": null,
   "id": "fa6c11b9-355d-43ee-87f0-1f844c83d561",
   "metadata": {},
   "outputs": [],
   "source": [
    "# import json\n",
    "\n",
    "# EMBEDDING_DIMENSIONALITY = 512\n",
    "\n",
    "# for model in TextEmbedding.list_supported_models():\n",
    "#     if model[\"dim\"] == EMBEDDING_DIMENSIONALITY:\n",
    "#         print(json.dumps(model, indent=2))"
   ]
  },
  {
   "cell_type": "code",
   "execution_count": null,
   "id": "a2aa0af0-e757-49af-a56e-204b9cd5c15a",
   "metadata": {},
   "outputs": [],
   "source": [
    "model_handle = \"jinaai/jina-embeddings-v2-small-en\"\n",
    "model = TextEmbedding(model_name=model_handle)"
   ]
  },
  {
   "cell_type": "markdown",
   "id": "14d26d95-1129-4926-96e7-489465360add",
   "metadata": {},
   "source": [
    "# Create a Collection"
   ]
  },
  {
   "cell_type": "code",
   "execution_count": null,
   "id": "b8423e98-bcab-4f54-8b02-19551f202eb8",
   "metadata": {},
   "outputs": [],
   "source": [
    "# Define the collection name\n",
    "collection_name = \"llm-rag\"\n",
    "\n",
    "# Create the collection with specified vector parameters\n",
    "client.create_collection(\n",
    "    collection_name=collection_name,\n",
    "    vectors_config=models.VectorParams(\n",
    "        size=EMBEDDING_DIMENSIONALITY,  # Dimensionality of the vectors\n",
    "        distance=models.Distance.COSINE  # Distance metric for similarity search\n",
    "    )\n",
    ")"
   ]
  },
  {
   "cell_type": "markdown",
   "id": "77b67efb-0cc6-49cf-bc42-b64b2c60a791",
   "metadata": {},
   "source": [
    "# Create, Embed & Insert Points into the Collection"
   ]
  },
  {
   "cell_type": "code",
   "execution_count": null,
   "id": "fbf637a9-6165-437b-8372-30d2e6fa3ebb",
   "metadata": {},
   "outputs": [],
   "source": [
    "points = []\n",
    "id = 0\n",
    "embedding_model = TextEmbedding(model_name=\"jinaai/jina-embeddings-v2-small-en\")\n",
    "\n",
    "for course in documents_raw:\n",
    "    for doc in course['documents']:\n",
    "        text_raw = doc[\"text\"]\n",
    "        text_str = text_raw if isinstance(text_raw, str) else \" \".join(text_raw)\n",
    "        point = models.PointStruct(\n",
    "            id=id,\n",
    "        vector = list(embedding_model.embed([text_str]))[0],\n",
    "            payload={\n",
    "                \"text\": doc['text'],\n",
    "                \"section\": doc['section'],\n",
    "                \"course\": course['course']\n",
    "            } #save all needed metadata fields\n",
    "        )\n",
    "        points.append(point)\n",
    "\n",
    "        id += 1"
   ]
  },
  {
   "cell_type": "code",
   "execution_count": null,
   "id": "3ef2ab4a-263d-4032-8189-520643f83e03",
   "metadata": {},
   "outputs": [],
   "source": [
    "client.upsert(\n",
    "    collection_name=collection_name,\n",
    "    points=points\n",
    ")"
   ]
  },
  {
   "cell_type": "markdown",
   "id": "999a516b-3ca1-4506-b652-36f3d8f42792",
   "metadata": {},
   "source": [
    "# 6. Running a Similarity Search"
   ]
  },
  {
   "cell_type": "code",
   "execution_count": null,
   "id": "a418e873-e855-47ec-9cb8-f71e7c6ec2a7",
   "metadata": {},
   "outputs": [],
   "source": [
    "def search(query, limit=1):\n",
    "\n",
    "    results = client.query_points(\n",
    "        collection_name=collection_name,\n",
    "        query=models.Document( #embed the query text locally with \"jinaai/jina-embeddings-v2-small-en\"\n",
    "            text=query,\n",
    "            model=model_handle \n",
    "        ),\n",
    "        limit=limit, # top closest matches\n",
    "        with_payload=True #to get metadata in the results\n",
    "    )\n",
    "\n",
    "    return results"
   ]
  },
  {
   "cell_type": "code",
   "execution_count": null,
   "id": "a08b022b-a742-423d-ba3c-91b19b9edaec",
   "metadata": {},
   "outputs": [],
   "source": [
    "import random\n",
    "\n",
    "course = random.choice(documents_raw)\n",
    "course_piece = random.choice(course['documents'])\n",
    "print(json.dumps(course_piece, indent=2))"
   ]
  },
  {
   "cell_type": "code",
   "execution_count": null,
   "id": "f6c382cd-c93d-4e01-8073-7c4c1e5d3328",
   "metadata": {},
   "outputs": [],
   "source": [
    "result = search(course_piece['question'])\n",
    "result"
   ]
  },
  {
   "cell_type": "code",
   "execution_count": null,
   "id": "cfad7126-a32d-445b-95bd-752a9d176c2a",
   "metadata": {},
   "outputs": [],
   "source": [
    "print(f\"Question:\\n{course_piece['question']}\\n\")\n",
    "print(\"Top Retrieved Answer:\\n{}\\n\".format(result.points[0].payload['text']))\n",
    "print(\"Original Answer:\\n{}\".format(course_piece['text']))"
   ]
  },
  {
   "cell_type": "code",
   "execution_count": null,
   "id": "12e2f764-91ee-4caf-8661-9d2b5716ae27",
   "metadata": {},
   "outputs": [],
   "source": [
    "print(search(\"What should be done toward the end of the semester?\").points[0].payload['text'])"
   ]
  },
  {
   "cell_type": "markdown",
   "id": "98b15e67-647c-4b81-95f2-5889bd45f6a0",
   "metadata": {},
   "source": [
    "# 7. Running a Similarity Search with Filters"
   ]
  },
  {
   "cell_type": "code",
   "execution_count": null,
   "id": "21767973-83fa-4fb4-a5ad-5009ade9c248",
   "metadata": {},
   "outputs": [],
   "source": [
    "client.create_payload_index(\n",
    "    collection_name=collection_name,\n",
    "    field_name=\"course\",\n",
    "    field_schema=\"keyword\" # exact matching on string metadata fields\n",
    ")"
   ]
  },
  {
   "cell_type": "code",
   "execution_count": null,
   "id": "23d1224c-7a89-44fd-b1ae-5006eaae55d5",
   "metadata": {},
   "outputs": [],
   "source": [
    "def search_in_course(query, course=\"rechnerkommunikation-preparation-guide\", limit=1):\n",
    "\n",
    "    results = client.query_points(\n",
    "        collection_name=collection_name,\n",
    "        query=models.Document( #embed the query text locally with \"jinaai/jina-embeddings-v2-small-en\"\n",
    "            text=query,\n",
    "            model=model_handle\n",
    "        ),\n",
    "        query_filter=models.Filter( # filter by course name\n",
    "            must=[\n",
    "                models.FieldCondition(\n",
    "                    key=\"course\",\n",
    "                    match=models.MatchValue(value=course)\n",
    "                )\n",
    "            ]\n",
    "        ),\n",
    "        limit=limit, # top closest matches\n",
    "        with_payload=True #to get metadata in the results\n",
    "    )\n",
    "\n",
    "    return results"
   ]
  },
  {
   "cell_type": "code",
   "execution_count": null,
   "id": "3881233a-9cd7-45ea-bafe-744495b81a61",
   "metadata": {},
   "outputs": [],
   "source": [
    "print(search_in_course(\"What should be done toward the end of the semester?\", \"rechnerkommunikation-preparation-guide\").points[0].payload['text'])"
   ]
  },
  {
   "cell_type": "code",
   "execution_count": null,
   "id": "040434f9-cdbf-44a6-abe0-970671f0c3e6",
   "metadata": {},
   "outputs": [],
   "source": []
  }
 ],
 "metadata": {
  "kernelspec": {
   "display_name": "Python 3 (ipykernel)",
   "language": "python",
   "name": "python3"
  },
  "language_info": {
   "codemirror_mode": {
    "name": "ipython",
    "version": 3
   },
   "file_extension": ".py",
   "mimetype": "text/x-python",
   "name": "python",
   "nbconvert_exporter": "python",
   "pygments_lexer": "ipython3",
   "version": "3.12.1"
  }
 },
 "nbformat": 4,
 "nbformat_minor": 5
}
