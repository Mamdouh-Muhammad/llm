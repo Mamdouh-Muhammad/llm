{
 "cells": [
  {
   "cell_type": "markdown",
   "id": "101e334a-f29a-4270-9678-a0a351a55c8e",
   "metadata": {},
   "source": [
    "# Install libraries and import them"
   ]
  },
  {
   "cell_type": "code",
   "execution_count": 4,
   "id": "d671ec9d-5198-4a9f-9bb2-49cc57327541",
   "metadata": {},
   "outputs": [
    {
     "name": "stdout",
     "output_type": "stream",
     "text": [
      "Requirement already satisfied: openai in /usr/local/python/3.12.1/lib/python3.12/site-packages (1.85.0)\n",
      "Requirement already satisfied: python-dotenv in /usr/local/python/3.12.1/lib/python3.12/site-packages (1.1.0)\n",
      "Requirement already satisfied: tqdm in /usr/local/python/3.12.1/lib/python3.12/site-packages (4.67.1)\n",
      "Requirement already satisfied: requests in /home/codespace/.local/lib/python3.12/site-packages (2.32.3)\n",
      "Requirement already satisfied: beautifulsoup4 in /home/codespace/.local/lib/python3.12/site-packages (4.13.3)\n",
      "Requirement already satisfied: anyio<5,>=3.5.0 in /home/codespace/.local/lib/python3.12/site-packages (from openai) (4.9.0)\n",
      "Requirement already satisfied: distro<2,>=1.7.0 in /usr/local/python/3.12.1/lib/python3.12/site-packages (from openai) (1.9.0)\n",
      "Requirement already satisfied: httpx<1,>=0.23.0 in /home/codespace/.local/lib/python3.12/site-packages (from openai) (0.28.1)\n",
      "Requirement already satisfied: jiter<1,>=0.4.0 in /usr/local/python/3.12.1/lib/python3.12/site-packages (from openai) (0.10.0)\n",
      "Requirement already satisfied: pydantic<3,>=1.9.0 in /usr/local/python/3.12.1/lib/python3.12/site-packages (from openai) (2.11.5)\n",
      "Requirement already satisfied: sniffio in /home/codespace/.local/lib/python3.12/site-packages (from openai) (1.3.1)\n",
      "Requirement already satisfied: typing-extensions<5,>=4.11 in /home/codespace/.local/lib/python3.12/site-packages (from openai) (4.12.2)\n",
      "Requirement already satisfied: charset-normalizer<4,>=2 in /home/codespace/.local/lib/python3.12/site-packages (from requests) (3.4.1)\n",
      "Requirement already satisfied: idna<4,>=2.5 in /home/codespace/.local/lib/python3.12/site-packages (from requests) (3.10)\n",
      "Requirement already satisfied: urllib3<3,>=1.21.1 in /home/codespace/.local/lib/python3.12/site-packages (from requests) (2.3.0)\n",
      "Requirement already satisfied: certifi>=2017.4.17 in /home/codespace/.local/lib/python3.12/site-packages (from requests) (2025.1.31)\n",
      "Requirement already satisfied: soupsieve>1.2 in /home/codespace/.local/lib/python3.12/site-packages (from beautifulsoup4) (2.6)\n",
      "Requirement already satisfied: httpcore==1.* in /home/codespace/.local/lib/python3.12/site-packages (from httpx<1,>=0.23.0->openai) (1.0.7)\n",
      "Requirement already satisfied: h11<0.15,>=0.13 in /home/codespace/.local/lib/python3.12/site-packages (from httpcore==1.*->httpx<1,>=0.23.0->openai) (0.14.0)\n",
      "Requirement already satisfied: annotated-types>=0.6.0 in /usr/local/python/3.12.1/lib/python3.12/site-packages (from pydantic<3,>=1.9.0->openai) (0.7.0)\n",
      "Requirement already satisfied: pydantic-core==2.33.2 in /usr/local/python/3.12.1/lib/python3.12/site-packages (from pydantic<3,>=1.9.0->openai) (2.33.2)\n",
      "Requirement already satisfied: typing-inspection>=0.4.0 in /usr/local/python/3.12.1/lib/python3.12/site-packages (from pydantic<3,>=1.9.0->openai) (0.4.1)\n",
      "\n",
      "\u001b[1m[\u001b[0m\u001b[34;49mnotice\u001b[0m\u001b[1;39;49m]\u001b[0m\u001b[39;49m A new release of pip is available: \u001b[0m\u001b[31;49m25.0.1\u001b[0m\u001b[39;49m -> \u001b[0m\u001b[32;49m25.1.1\u001b[0m\n",
      "\u001b[1m[\u001b[0m\u001b[34;49mnotice\u001b[0m\u001b[1;39;49m]\u001b[0m\u001b[39;49m To update, run: \u001b[0m\u001b[32;49mpython3 -m pip install --upgrade pip\u001b[0m\n"
     ]
    }
   ],
   "source": [
    "!pip install openai python-dotenv tqdm requests beautifulsoup4\n",
    "!pip install --upgrade pinecone"
   ]
  },
  {
   "cell_type": "code",
   "execution_count": 5,
   "id": "a66ea234-13d6-4042-a640-7d8726199d5f",
   "metadata": {},
   "outputs": [],
   "source": [
    "import minsearch\n",
    "import json\n",
    "from openai import OpenAI  # OpenAI API client\n",
    "import pinecone  # Pinecone client library\n",
    "# print(pinecone.__version__)  # Print Pinecone version (optional)\n",
    "from pinecone import Pinecone, ServerlessSpec  # For setup and serverless config\n",
    "import hashlib  # For hashing (e.g., file IDs)\n",
    "import os  # OS operations and env vars\n",
    "from datetime import datetime  # Date and time handling\n",
    "from tqdm import tqdm  # Progress bars (e.g., looping through files)\n",
    "import requests  # HTTP requests (e.g., for web scraping or API calls)\n",
    "import re  # Regular expressions (e.g., for pattern matching in strings)\n",
    "from bs4 import BeautifulSoup  # HTML parsing\n",
    "from dotenv import load_dotenv  # Load .env file"
   ]
  },
  {
   "cell_type": "code",
   "execution_count": 6,
   "id": "fa2e9417-7005-44fa-b105-68a66773c001",
   "metadata": {},
   "outputs": [],
   "source": [
    "load_dotenv()\n",
    "# Now retrieve the keys\n",
    "openai_key = os.getenv(\"OPENAI_API_KEY\")\n",
    "pinecone_key = os.getenv(\"PINECONE_API_KEY\")"
   ]
  },
  {
   "cell_type": "code",
   "execution_count": 7,
   "id": "fbdd6f2f-7059-4e35-adf2-a17e9d56387d",
   "metadata": {},
   "outputs": [],
   "source": [
    "with open('rk.json', 'rt') as f_in:\n",
    "    docs_raw = json.load(f_in)"
   ]
  },
  {
   "cell_type": "code",
   "execution_count": 8,
   "id": "fa6c11b9-355d-43ee-87f0-1f844c83d561",
   "metadata": {},
   "outputs": [],
   "source": [
    "documents = []\n",
    "\n",
    "for course_dict in docs_raw:\n",
    "    for doc in course_dict['documents']:\n",
    "        doc['course'] = course_dict['course']\n",
    "        \n",
    "        # Fix: normalize text fields to strings\n",
    "        for field in [\"question\", \"text\", \"section\"]:\n",
    "            if isinstance(doc.get(field, \"\"), list):\n",
    "                doc[field] = \" \".join(doc[field])\n",
    "            elif doc.get(field) is None:\n",
    "                doc[field] = \"\"\n",
    "            else:\n",
    "                doc[field] = str(doc[field])\n",
    "\n",
    "        documents.append(doc)\n"
   ]
  },
  {
   "cell_type": "code",
   "execution_count": 9,
   "id": "4cecd54f-4c86-4b3a-a0f9-b52daa88fd24",
   "metadata": {},
   "outputs": [
    {
     "data": {
      "text/plain": [
       "{'section': 'Before Each Semester',\n",
       " 'question': 'What should be done before the semester begins?',\n",
       " 'text': 'Reserve the I7 CIP room (tell Stephanie). Check the expected number of students that will enroll. Plan the number of tutors and time slots based on expected student count. Contact students to join as tutors, starting with former tutors. Email previous year students based on RK grades and notify Erika for paperwork. Create StudOn content for the RK semester including Parallelgruppen and Vierergruppen. Use previous year examples as templates (e.g., SS24). Adjust Parallelgruppe registration via StudOn: Übungen → Übungsbereich → Anmeldung zu den Übungen. Edit the Zeitplan to reflect Feiertage and Vorlesungsfrei Tage. Schedule and email tutors about the first Zoom meeting, using DFN Terminplaner. Edit the RK_0_Org file in the lectures folder. Request StudOn access from I7admin for RK lectures. Create rkXYint, rkXY, rkXYabgabe email addresses (deprecated from RK25 onwards). Set correct sender/receiver access for mailing lists.',\n",
       " 'course': 'rechnerkommunikation-preparation-guide'}"
      ]
     },
     "execution_count": 9,
     "metadata": {},
     "output_type": "execute_result"
    }
   ],
   "source": [
    "documents[0]"
   ]
  },
  {
   "cell_type": "code",
   "execution_count": 10,
   "id": "87147ea5-11aa-4fe2-81f8-460548ae8e43",
   "metadata": {},
   "outputs": [],
   "source": [
    "index = minsearch.Index(\n",
    "    text_fields=[\"question\", \"text\", \"section\"],\n",
    "    keyword_fields=[\"course\"]\n",
    ")"
   ]
  },
  {
   "cell_type": "code",
   "execution_count": 11,
   "id": "6b6d1f69-283c-441e-b810-fda7539ad130",
   "metadata": {},
   "outputs": [],
   "source": [
    "question = 'what to do before the semester?'"
   ]
  },
  {
   "cell_type": "code",
   "execution_count": 12,
   "id": "a893700d-bdf6-4f28-8c7e-405bc4164653",
   "metadata": {},
   "outputs": [
    {
     "data": {
      "text/plain": [
       "<minsearch.minsearch.Index at 0x78c19054cce0>"
      ]
     },
     "execution_count": 12,
     "metadata": {},
     "output_type": "execute_result"
    }
   ],
   "source": [
    "index.fit(documents)"
   ]
  },
  {
   "cell_type": "code",
   "execution_count": null,
   "id": "775c0218-9987-4bbd-965f-90fed79d7a1b",
   "metadata": {},
   "outputs": [],
   "source": [
    "boost = {'question': 3.0, 'section': 0.5}\n",
    "#shift+tab\n",
    "results = index.search(\n",
    "        query=question,\n",
    "        filter_dict={'course': 'rechnerkommunikation-preparation-guide'},\n",
    "        boost_dict=boost,\n",
    "        num_results=5\n",
    "    )\n"
   ]
  },
  {
   "cell_type": "code",
   "execution_count": null,
   "id": "7b76ae74-f682-40f7-8784-371415483f91",
   "metadata": {},
   "outputs": [],
   "source": [
    "results"
   ]
  },
  {
   "cell_type": "markdown",
   "id": "8b17704e-f684-49d3-a047-abb9f7609fd3",
   "metadata": {},
   "source": [
    "# Use OpenAI"
   ]
  },
  {
   "cell_type": "code",
   "execution_count": 15,
   "id": "11f66b29-ed78-4b59-ad2f-493a718b7424",
   "metadata": {},
   "outputs": [],
   "source": [
    "# Initialize the OpenAI client\n",
    "client = OpenAI(\n",
    "    api_key=openai_key\n",
    ")\n",
    "\n",
    "# Initialize Pinecone v3 client\n",
    "pc = Pinecone(\n",
    "    api_key=pinecone_key\n",
    ")"
   ]
  },
  {
   "cell_type": "code",
   "execution_count": 17,
   "id": "5f64e974-c11f-47a0-b16f-762364845aa8",
   "metadata": {},
   "outputs": [
    {
     "data": {
      "text/plain": [
       "\"Preparing for a new semester involves a combination of organization, goal-setting, and mental preparation to ensure you start off on the right foot. Here are some steps you can take:\\n\\n1. **Review Your Courses**: Look at the syllabus or course descriptions for your upcoming classes. Familiarize yourself with the topics you'll be studying and note any required materials or textbooks.\\n\\n2. **Get Organized**: Create a semester calendar with important dates, such as exams, assignment deadlines, and any other commitments. Set up a system for organizing your class notes, digital files, and other materials.\\n\\n3. **Purchase Materials**: Acquire any required textbooks, notebooks, and supplies. Consider whether you need any specific software or tools for certain courses.\\n\\n4. **Set Goals**: Define what you want to achieve academically and personally during the semester. Set specific, measurable, attainable, relevant, and time-bound (SMART) goals.\\n\\n5. **Establish a Routine**: Plan your daily and weekly schedule to include class times, study sessions, extracurricular activities, and personal time. Establishing a routine can help you manage your time effectively.\\n\\n6. **Brush up on Skills**: If it's been a while since you've studied certain subjects, spend some time reviewing key concepts to refresh your memory and boost your confidence.\\n\\n7. **Connect with Instructors**: If possible, introduce yourself to your professors or instructors, especially if you have questions about the course or need clarification on any material.\\n\\n8. **Sort Out Logistics**: Ensure that you're ready for the semester with regard to housing, transportation, and other logistical aspects of student life.\\n\\n9. **Set Up Your Study Environment**: Create a comfortable and distraction-free study space, whether it's at home or in a designated area like a library.\\n\\n10. **Consider Your Well-being**: Plan how you’ll balance academic responsibilities with physical activity, social activities, and relaxation to maintain your well-being.\\n\\n11. **Familiarize Yourself with Campus Resources**: Learn about available resources such as the library, tutoring centers, counseling services, and career-related services.\\n\\n12. **Network with Peers**: Reach out to classmates or form study groups. Building a support network can be beneficial for both academic success and personal well-being.\\n\\nBy taking these steps before the semester begins, you'll be better equipped to handle the demands of your coursework and make the most of your educational experience.\""
      ]
     },
     "execution_count": 17,
     "metadata": {},
     "output_type": "execute_result"
    }
   ],
   "source": [
    "response = client.chat.completions.create(\n",
    "    model='gpt-4o',\n",
    "    messages=[{\"role\": \"user\", \"content\": question}]\n",
    ")\n",
    "\n",
    "response.choices[0].message.content"
   ]
  }
 ],
 "metadata": {
  "kernelspec": {
   "display_name": "Python 3 (ipykernel)",
   "language": "python",
   "name": "python3"
  },
  "language_info": {
   "codemirror_mode": {
    "name": "ipython",
    "version": 3
   },
   "file_extension": ".py",
   "mimetype": "text/x-python",
   "name": "python",
   "nbconvert_exporter": "python",
   "pygments_lexer": "ipython3",
   "version": "3.12.1"
  }
 },
 "nbformat": 4,
 "nbformat_minor": 5
}
